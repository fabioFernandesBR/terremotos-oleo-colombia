{
 "cells": [
  {
   "cell_type": "markdown",
   "metadata": {
    "application/vnd.databricks.v1+cell": {
     "cellMetadata": {
      "byteLimit": 2048000,
      "rowLimit": 10000
     },
     "inputWidgets": {},
     "nuid": "93dab0c4-9b8d-41af-9c34-ab7120118a86",
     "showTitle": false,
     "tableResultSettingsMap": {},
     "title": ""
    }
   },
   "source": [
    "# CAMADA BRONZE - NOTEBOOK 1\n",
    "\n",
    "Neste notebook, vamos ler os dados das instalações de interesse e persistir esses dados na plataforma Databricks.\n",
    "\n",
    "Na versão atual, estes dados referem-se a uma dezena de instalações pontuais, como terminais logísticos e estações de bombeamento. Os dados estão em arquivos csv, e basicamente cada instalação tem um par de coordenadas latitude / longitude.\n",
    "\n",
    "No futuro, os dados poderão incluir os oleodutos, que não tem apenas 1 par de coordenadas, mas sim uma sequencia de pontos, criando uma linha, que representa o traçado do duto.\n",
    "\n",
    "Ou seja, no momento este notebook é bem simples, mas ele pode evoluir para algo mais complexo, e por isso optei por deixar como um notebook independente de outros notebooks de camada bronze."
   ]
  },
  {
   "cell_type": "code",
   "execution_count": 0,
   "metadata": {
    "application/vnd.databricks.v1+cell": {
     "cellMetadata": {
      "byteLimit": 2048000,
      "rowLimit": 10000
     },
     "inputWidgets": {},
     "nuid": "89193926-01f2-4833-b9d4-d48267636fa9",
     "showTitle": false,
     "tableResultSettingsMap": {},
     "title": ""
    }
   },
   "outputs": [
    {
     "output_type": "stream",
     "name": "stdout",
     "output_type": "stream",
     "text": [
      "+------+--------------------+--------------------+---------+\n|codigo|          instalacao|         coordenadas| operador|\n+------+--------------------+--------------------+---------+\n|   COV|    Terminal Coveñas|9.409136280745889...|   Ocensa|\n|   LAG|Estacion La Granjita|8.449501151686118...|   Ocensa|\n|   CAU|     Planta Caucasia|7.976933967792115...|      ODC|\n|   CHI|  Estacion Chiquillo|6.849724465710438...|   Ocensa|\n|   VAS|   Estación Vasconia|6.066431800297201...|    CENIT|\n|   LAB| ESTACIÓN LA BELLEZA|5.840039734738277...|   Ocensa|\n|   MIR| Estación Miraflores|5.187013677738204...|   Ocensa|\n|   PAE|       Estacion Páez|5.071094644914588...|   Ocensa|\n|   ELP|Estación El Porvenir|4.921052391552144...|   Ocensa|\n|   CUS|    Estacion Cusiana|5.002134841542299...|   Ocensa|\n|   CUP|        CPF Cupiagua|5.2090068492098, ...|Ecopetrol|\n+------+--------------------+--------------------+---------+\n\n"
     ]
    }
   ],
   "source": [
    "# Caminho do arquivo CSV no DBFS\n",
    "file_path = \"/FileStore/tables/instalacoes_oleoducto_central.csv\"\n",
    "\n",
    "# Leitura do arquivo CSV\n",
    "df = spark.read.csv(file_path, header=True, inferSchema=True)\n",
    "df.show()\n"
   ]
  },
  {
   "cell_type": "code",
   "execution_count": 0,
   "metadata": {
    "application/vnd.databricks.v1+cell": {
     "cellMetadata": {
      "byteLimit": 2048000,
      "rowLimit": 10000
     },
     "inputWidgets": {},
     "nuid": "e9733a1f-5506-4d98-abd9-d141dd7029ac",
     "showTitle": false,
     "tableResultSettingsMap": {},
     "title": ""
    }
   },
   "outputs": [],
   "source": [
    "# Salvando os dados em formato Delta Lake\n",
    "df.write.format(\"delta\").mode(\"overwrite\").save(\"/mnt/dados/camada_bronze_instalacoes\")"
   ]
  }
 ],
 "metadata": {
  "application/vnd.databricks.v1+notebook": {
   "computePreferences": null,
   "dashboards": [],
   "environmentMetadata": {
    "base_environment": "",
    "environment_version": "1"
   },
   "inputWidgetPreferences": null,
   "language": "python",
   "notebookMetadata": {
    "pythonIndentUnit": 4
   },
   "notebookName": "Camada Bronze - Notebook 1 - Dados das Instalações",
   "widgets": {}
  }
 },
 "nbformat": 4,
 "nbformat_minor": 0
}