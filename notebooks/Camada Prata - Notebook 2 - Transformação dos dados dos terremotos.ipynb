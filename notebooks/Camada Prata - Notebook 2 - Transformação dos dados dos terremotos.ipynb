{
 "cells": [
  {
   "cell_type": "markdown",
   "metadata": {
    "application/vnd.databricks.v1+cell": {
     "cellMetadata": {
      "byteLimit": 2048000,
      "rowLimit": 10000
     },
     "inputWidgets": {},
     "nuid": "f6d123c6-8f68-442b-97e1-6f5d7b872a2e",
     "showTitle": false,
     "tableResultSettingsMap": {},
     "title": ""
    }
   },
   "source": [
    "# Camada Prata - Transformação dos Dados dos terremotos\n",
    "\n"
   ]
  },
  {
   "cell_type": "code",
   "execution_count": 0,
   "metadata": {
    "application/vnd.databricks.v1+cell": {
     "cellMetadata": {
      "byteLimit": 2048000,
      "rowLimit": 10000
     },
     "inputWidgets": {},
     "nuid": "68f22b9c-06ba-4465-83d6-7a1146472b84",
     "showTitle": false,
     "tableResultSettingsMap": {},
     "title": ""
    }
   },
   "outputs": [
    {
     "output_type": "display_data",
     "data": {
      "application/vnd.databricks.v1+bamboolib_hint": "{\"pd.DataFrames\": [], \"version\": \"0.0.1\"}",
      "text/plain": []
     },
     "metadata": {},
     "output_type": "display_data"
    }
   ],
   "source": [
    "# Importes necessários\n",
    "\n",
    "import seaborn as sns\n",
    "import matplotlib.pyplot as plt\n",
    "from pyspark.sql.functions import from_unixtime, col, year, month\n",
    "from pyspark.sql.functions import col, isnan, when, count, isnull\n",
    "from pyspark.sql.functions import udf\n",
    "from pyspark.sql.types import StringType\n",
    "import pandas as pd\n",
    "from geopy.geocoders import Nominatim\n",
    "from geopy.exc import GeocoderTimedOut\n",
    "import time\n",
    "from pyspark.sql.functions import to_date\n",
    "\n",
    "\n"
   ]
  },
  {
   "cell_type": "code",
   "execution_count": 0,
   "metadata": {
    "application/vnd.databricks.v1+cell": {
     "cellMetadata": {
      "byteLimit": 2048000,
      "rowLimit": 10000
     },
     "inputWidgets": {},
     "nuid": "93fe59ce-1c95-474f-abff-bc3940f4dd7f",
     "showTitle": false,
     "tableResultSettingsMap": {},
     "title": ""
    }
   },
   "outputs": [
    {
     "output_type": "stream",
     "name": "stdout",
     "output_type": "stream",
     "text": [
      "+-------+----------+--------------+--------------------+---------------+------------------+--------------------+--------------------+---------------+--------------+--------------+----------------+-----------------+------------------+--------------+--------------+---------------+--------------------+------------------+--------------------+--------------+---------------+--------------+-----------------+------------------+---------------+--------------------+-------------+--------------------+\n|   type|        id|properties.mag|    properties.place|properties.time|properties.updated|      properties.url|   properties.detail|properties.felt|properties.cdi|properties.mmi|properties.alert|properties.status|properties.tsunami|properties.sig|properties.net|properties.code|      properties.ids|properties.sources|    properties.types|properties.nst|properties.dmin|properties.rms|   properties.gap|properties.magType|properties.type|    properties.title|geometry.type|geometry.coordinates|\n+-------+----------+--------------+--------------------+---------------+------------------+--------------------+--------------------+---------------+--------------+--------------+----------------+-----------------+------------------+--------------+--------------+---------------+--------------------+------------------+--------------------+--------------+---------------+--------------+-----------------+------------------+---------------+--------------------+-------------+--------------------+\n|Feature|at00sthakw|           6.5|111 km SE of Buri...|  1742568656000|     1742577414640|https://earthquak...|https://earthquak...|           null|          null|          null|            null|         REVIEWED|                 1|           650|            at|       00sthakw|        ,at00sthakw,|              ,at,|,impact-link,origin,|         154.0|            0.0|          2.52|71.99999424000046|                Mi|     earthquake|M 6.5 - 111 km SE...|        Point|  [-82.3, 7.2, 10.0]|\n|Feature|us7000pllt|           6.2|120 km SSE of Bur...|  1742568651098|     1742879645991|https://earthquak...|https://earthquak...|           82.0|           6.1|         4.942|           green|         reviewed|                 1|           641|            us|       7000pllt|,pt25080000,us700...| ,pt,us,usauto,at,|,dyfi,ground-fail...|          74.0|          2.354|          1.05|            143.0|               mww|     earthquake|M 6.2 - 120 km SS...|        Point|[-82.3966, 7.0486...|\n+-------+----------+--------------+--------------------+---------------+------------------+--------------------+--------------------+---------------+--------------+--------------+----------------+-----------------+------------------+--------------+--------------+---------------+--------------------+------------------+--------------------+--------------+---------------+--------------+-----------------+------------------+---------------+--------------------+-------------+--------------------+\nonly showing top 2 rows\n\n"
     ]
    }
   ],
   "source": [
    "# Caminho do arquivo Delta Lake\n",
    "file_path = \"/mnt/dados/camada_bronze_terremotos\"\n",
    "\n",
    "# Ler o arquivo Delta Lake\n",
    "df = spark.read.format(\"delta\").load(file_path)\n",
    "\n",
    "# Visualizar as primeiras 5 linhas do DataFrame\n",
    "df.show(2)\n"
   ]
  },
  {
   "cell_type": "markdown",
   "metadata": {
    "application/vnd.databricks.v1+cell": {
     "cellMetadata": {
      "byteLimit": 2048000,
      "rowLimit": 10000
     },
     "inputWidgets": {},
     "nuid": "7d1f92d5-83d9-4f4e-8570-3e2f88a70eb1",
     "showTitle": false,
     "tableResultSettingsMap": {},
     "title": ""
    }
   },
   "source": [
    "**Análise dos dados recebidos**"
   ]
  },
  {
   "cell_type": "markdown",
   "metadata": {
    "application/vnd.databricks.v1+cell": {
     "cellMetadata": {
      "byteLimit": 2048000,
      "rowLimit": 10000
     },
     "inputWidgets": {},
     "nuid": "a7ae8041-822c-41fe-8e5a-e087688eb247",
     "showTitle": false,
     "tableResultSettingsMap": {},
     "title": ""
    }
   },
   "source": [
    "Quantas linhas foram recebidas?"
   ]
  },
  {
   "cell_type": "code",
   "execution_count": 0,
   "metadata": {
    "application/vnd.databricks.v1+cell": {
     "cellMetadata": {
      "byteLimit": 2048000,
      "rowLimit": 10000
     },
     "inputWidgets": {},
     "nuid": "b65d8c27-82b7-4387-810a-36c6be20607d",
     "showTitle": false,
     "tableResultSettingsMap": {},
     "title": ""
    }
   },
   "outputs": [
    {
     "output_type": "stream",
     "name": "stdout",
     "output_type": "stream",
     "text": [
      "Out[3]: 399"
     ]
    }
   ],
   "source": [
    "df.count()"
   ]
  },
  {
   "cell_type": "markdown",
   "metadata": {
    "application/vnd.databricks.v1+cell": {
     "cellMetadata": {
      "byteLimit": 2048000,
      "rowLimit": 10000
     },
     "inputWidgets": {},
     "nuid": "cbc3fd5a-4ab1-4dde-85f9-6235401efe41",
     "showTitle": false,
     "tableResultSettingsMap": {},
     "title": ""
    }
   },
   "source": [
    "Como é o formato da tabela? Quais colunas foram fornecidas?"
   ]
  },
  {
   "cell_type": "code",
   "execution_count": 0,
   "metadata": {
    "application/vnd.databricks.v1+cell": {
     "cellMetadata": {
      "byteLimit": 2048000,
      "rowLimit": 10000
     },
     "inputWidgets": {},
     "nuid": "4b7488e0-65f9-402e-a4f6-49dd0b786f38",
     "showTitle": false,
     "tableResultSettingsMap": {},
     "title": ""
    }
   },
   "outputs": [
    {
     "output_type": "stream",
     "name": "stdout",
     "output_type": "stream",
     "text": [
      "root\n |-- type: string (nullable = true)\n |-- id: string (nullable = true)\n |-- properties.mag: double (nullable = true)\n |-- properties.place: string (nullable = true)\n |-- properties.time: long (nullable = true)\n |-- properties.updated: long (nullable = true)\n |-- properties.url: string (nullable = true)\n |-- properties.detail: string (nullable = true)\n |-- properties.felt: double (nullable = true)\n |-- properties.cdi: double (nullable = true)\n |-- properties.mmi: double (nullable = true)\n |-- properties.alert: string (nullable = true)\n |-- properties.status: string (nullable = true)\n |-- properties.tsunami: long (nullable = true)\n |-- properties.sig: long (nullable = true)\n |-- properties.net: string (nullable = true)\n |-- properties.code: string (nullable = true)\n |-- properties.ids: string (nullable = true)\n |-- properties.sources: string (nullable = true)\n |-- properties.types: string (nullable = true)\n |-- properties.nst: double (nullable = true)\n |-- properties.dmin: double (nullable = true)\n |-- properties.rms: double (nullable = true)\n |-- properties.gap: double (nullable = true)\n |-- properties.magType: string (nullable = true)\n |-- properties.type: string (nullable = true)\n |-- properties.title: string (nullable = true)\n |-- geometry.type: string (nullable = true)\n |-- geometry.coordinates: array (nullable = true)\n |    |-- element: double (containsNull = true)\n\n"
     ]
    }
   ],
   "source": [
    "\n",
    "\n",
    "df.printSchema()\n",
    "\n"
   ]
  },
  {
   "cell_type": "markdown",
   "metadata": {
    "application/vnd.databricks.v1+cell": {
     "cellMetadata": {
      "byteLimit": 2048000,
      "rowLimit": 10000
     },
     "inputWidgets": {},
     "nuid": "14ec4fcb-dd4b-47a6-a4dc-24d73465fc97",
     "showTitle": false,
     "tableResultSettingsMap": {},
     "title": ""
    }
   },
   "source": [
    "dicionário dos dados: https://earthquake.usgs.gov/data/comcat/index.php#event-terms"
   ]
  },
  {
   "cell_type": "markdown",
   "metadata": {
    "application/vnd.databricks.v1+cell": {
     "cellMetadata": {
      "byteLimit": 2048000,
      "rowLimit": 10000
     },
     "inputWidgets": {},
     "nuid": "8ad02799-aaf4-4860-909e-a290c2162ef9",
     "showTitle": false,
     "tableResultSettingsMap": {},
     "title": ""
    }
   },
   "source": [
    "A Análise do dicionário dos dados mostra que as seguintes variáveis são de interesse para nossa pesquisa no momento:\n",
    "\n",
    "\n",
    " \n",
    " |-- id: string (nullable = true) ### A unique identifier for the event. This is the current preferred id for the event, and may change over time.\n",
    "\n",
    " |-- properties.mag: double (nullable = true) ### The magnitude for the event.\n",
    "\n",
    " |-- properties.time: long (nullable = true) ### Time when the event occurred. \n",
    "\n",
    " |-- properties.url: string (nullable = true) ### Link to USGS Event Page for event.\n",
    "\n",
    " |-- properties.sig: long (nullable = true) ### A number describing how significant the event is. Larger numbers indicate a more significant event. \n",
    " \n",
    " |-- properties.magType: string (nullable = true) ### The method or algorithm used to calculate the preferred magnitude for the event.\n",
    "\n",
    " |-- properties.type: string (nullable = true) ### Type of seismic event.\n",
    " \n",
    " |-- geometry.type: string (nullable = true)   ### Ponto de referência?\n",
    " |-- geometry.coordinates: array (nullable = true)  ### Coordenadas\n",
    " |    |-- element: double (containsNull = true)\n"
   ]
  },
  {
   "cell_type": "markdown",
   "metadata": {
    "application/vnd.databricks.v1+cell": {
     "cellMetadata": {
      "byteLimit": 2048000,
      "rowLimit": 10000
     },
     "inputWidgets": {},
     "nuid": "77d7ecc8-338d-4a76-ac2d-16795ffa64e6",
     "showTitle": false,
     "tableResultSettingsMap": {},
     "title": ""
    }
   },
   "source": [
    "esse formato properties.mag, properties.place etc traz algumas dificuldades e erros. Vamos primeiro renomear todas as colunas:"
   ]
  },
  {
   "cell_type": "code",
   "execution_count": 0,
   "metadata": {
    "application/vnd.databricks.v1+cell": {
     "cellMetadata": {
      "byteLimit": 2048000,
      "rowLimit": 10000
     },
     "inputWidgets": {},
     "nuid": "45a14bca-f7ec-44e8-8a44-304cf665a190",
     "showTitle": false,
     "tableResultSettingsMap": {},
     "title": ""
    }
   },
   "outputs": [
    {
     "output_type": "stream",
     "name": "stdout",
     "output_type": "stream",
     "text": [
      "root\n |-- type: string (nullable = true)\n |-- id: string (nullable = true)\n |-- prop_mag: double (nullable = true)\n |-- prop_place: string (nullable = true)\n |-- prop_time: long (nullable = true)\n |-- prop_updated: long (nullable = true)\n |-- prop_url: string (nullable = true)\n |-- prop_detail: string (nullable = true)\n |-- prop_felt: double (nullable = true)\n |-- prop_cdi: double (nullable = true)\n |-- prop_mmi: double (nullable = true)\n |-- prop_alert: string (nullable = true)\n |-- prop_status: string (nullable = true)\n |-- prop_tsunami: long (nullable = true)\n |-- prop_sig: long (nullable = true)\n |-- prop_net: string (nullable = true)\n |-- prop_code: string (nullable = true)\n |-- prop_ids: string (nullable = true)\n |-- prop_sources: string (nullable = true)\n |-- prop_types: string (nullable = true)\n |-- prop_nst: double (nullable = true)\n |-- prop_dmin: double (nullable = true)\n |-- prop_rms: double (nullable = true)\n |-- prop_gap: double (nullable = true)\n |-- prop_magType: string (nullable = true)\n |-- prop_type: string (nullable = true)\n |-- prop_title: string (nullable = true)\n |-- geometry_type: string (nullable = true)\n |-- geometry_coordinates: array (nullable = true)\n |    |-- element: double (containsNull = true)\n\n"
     ]
    }
   ],
   "source": [
    "# Renomear colunas\n",
    "df_renamed = df.withColumnRenamed(\"properties.mag\", \"prop_mag\") \\\n",
    "               .withColumnRenamed(\"properties.place\", \"prop_place\") \\\n",
    "               .withColumnRenamed(\"properties.time\", \"prop_time\") \\\n",
    "               .withColumnRenamed(\"properties.updated\", \"prop_updated\") \\\n",
    "               .withColumnRenamed(\"properties.url\", \"prop_url\") \\\n",
    "               .withColumnRenamed(\"properties.detail\", \"prop_detail\") \\\n",
    "               .withColumnRenamed(\"properties.felt\", \"prop_felt\") \\\n",
    "               .withColumnRenamed(\"properties.cdi\", \"prop_cdi\") \\\n",
    "               .withColumnRenamed(\"properties.mmi\", \"prop_mmi\") \\\n",
    "               .withColumnRenamed(\"properties.alert\", \"prop_alert\") \\\n",
    "               .withColumnRenamed(\"properties.status\", \"prop_status\") \\\n",
    "               .withColumnRenamed(\"properties.tsunami\", \"prop_tsunami\") \\\n",
    "               .withColumnRenamed(\"properties.sig\", \"prop_sig\") \\\n",
    "               .withColumnRenamed(\"properties.net\", \"prop_net\") \\\n",
    "               .withColumnRenamed(\"properties.code\", \"prop_code\") \\\n",
    "               .withColumnRenamed(\"properties.ids\", \"prop_ids\") \\\n",
    "               .withColumnRenamed(\"properties.sources\", \"prop_sources\") \\\n",
    "               .withColumnRenamed(\"properties.types\", \"prop_types\") \\\n",
    "               .withColumnRenamed(\"properties.nst\", \"prop_nst\") \\\n",
    "               .withColumnRenamed(\"properties.dmin\", \"prop_dmin\") \\\n",
    "               .withColumnRenamed(\"properties.rms\", \"prop_rms\") \\\n",
    "               .withColumnRenamed(\"properties.gap\", \"prop_gap\") \\\n",
    "               .withColumnRenamed(\"properties.magType\", \"prop_magType\") \\\n",
    "               .withColumnRenamed(\"properties.type\", \"prop_type\") \\\n",
    "               .withColumnRenamed(\"properties.title\", \"prop_title\") \\\n",
    "               .withColumnRenamed(\"geometry.type\", \"geometry_type\") \\\n",
    "               .withColumnRenamed(\"geometry.coordinates\", \"geometry_coordinates\")\n",
    "\n",
    "df = df_renamed\n",
    "\n",
    "# Verificar o novo esquema\n",
    "df.printSchema()\n"
   ]
  },
  {
   "cell_type": "markdown",
   "metadata": {
    "application/vnd.databricks.v1+cell": {
     "cellMetadata": {
      "byteLimit": 2048000,
      "rowLimit": 10000
     },
     "inputWidgets": {},
     "nuid": "7c397058-4722-4735-bd9f-3cedf42ce450",
     "showTitle": false,
     "tableResultSettingsMap": {},
     "title": ""
    }
   },
   "source": [
    "e agora eliminar aquelas de que não precisamos"
   ]
  },
  {
   "cell_type": "code",
   "execution_count": 0,
   "metadata": {
    "application/vnd.databricks.v1+cell": {
     "cellMetadata": {
      "byteLimit": 2048000,
      "rowLimit": 10000
     },
     "inputWidgets": {},
     "nuid": "ea693442-ac4d-41a7-b09b-eb1f70156f51",
     "showTitle": false,
     "tableResultSettingsMap": {},
     "title": ""
    }
   },
   "outputs": [
    {
     "output_type": "stream",
     "name": "stdout",
     "output_type": "stream",
     "text": [
      "root\n |-- id: string (nullable = true)\n |-- prop_mag: double (nullable = true)\n |-- prop_time: long (nullable = true)\n |-- prop_url: string (nullable = true)\n |-- prop_sig: long (nullable = true)\n |-- prop_magType: string (nullable = true)\n |-- prop_type: string (nullable = true)\n |-- geometry_type: string (nullable = true)\n |-- geometry_coordinates: array (nullable = true)\n |    |-- element: double (containsNull = true)\n\n"
     ]
    }
   ],
   "source": [
    "# Selecionar apenas as colunas desejadas\n",
    "df_selected = df.select(\n",
    "    \"id\",\n",
    "    \"prop_mag\",\n",
    "    \"prop_time\",\n",
    "    \"prop_url\",\n",
    "    \"prop_sig\",\n",
    "    \"prop_magType\",\n",
    "    \"prop_type\",\n",
    "    \"geometry_type\",\n",
    "    \"geometry_coordinates\"\n",
    ")\n",
    "df = df_selected\n",
    "\n",
    "# Verificar o novo esquema\n",
    "df.printSchema()\n"
   ]
  },
  {
   "cell_type": "markdown",
   "metadata": {
    "application/vnd.databricks.v1+cell": {
     "cellMetadata": {
      "byteLimit": 2048000,
      "rowLimit": 10000
     },
     "inputWidgets": {},
     "nuid": "6ca670ea-8fd0-4b1c-9f23-b5282b10d200",
     "showTitle": false,
     "tableResultSettingsMap": {},
     "title": ""
    }
   },
   "source": [
    "**Analisando a coluna id**"
   ]
  },
  {
   "cell_type": "code",
   "execution_count": 0,
   "metadata": {
    "application/vnd.databricks.v1+cell": {
     "cellMetadata": {
      "byteLimit": 2048000,
      "rowLimit": 10000
     },
     "inputWidgets": {},
     "nuid": "00a8be5c-8e2e-45f1-bad7-f047355e54c0",
     "showTitle": false,
     "tableResultSettingsMap": {},
     "title": ""
    }
   },
   "outputs": [
    {
     "output_type": "stream",
     "name": "stdout",
     "output_type": "stream",
     "text": [
      "+-------+----------+\n|summary|        id|\n+-------+----------+\n|  count|       399|\n|   mean|      null|\n| stddev|      null|\n|    min|at00sthakw|\n|    max|usp000jta1|\n+-------+----------+\n\n"
     ]
    }
   ],
   "source": [
    "df.select('id').describe().show() "
   ]
  },
  {
   "cell_type": "code",
   "execution_count": 0,
   "metadata": {
    "application/vnd.databricks.v1+cell": {
     "cellMetadata": {
      "byteLimit": 2048000,
      "rowLimit": 10000
     },
     "inputWidgets": {},
     "nuid": "55bc8fa4-bbfd-4470-a68a-7f6a065c16a6",
     "showTitle": false,
     "tableResultSettingsMap": {},
     "title": ""
    }
   },
   "outputs": [
    {
     "output_type": "stream",
     "name": "stdout",
     "output_type": "stream",
     "text": [
      "Número de valores nulos na coluna 'id': 0\n"
     ]
    }
   ],
   "source": [
    "\n",
    "# Contar valores nulos\n",
    "null_count = df.filter(col(\"id\").isNull()).count()\n",
    "print(f\"Número de valores nulos na coluna 'id': {null_count}\")\n"
   ]
  },
  {
   "cell_type": "code",
   "execution_count": 0,
   "metadata": {
    "application/vnd.databricks.v1+cell": {
     "cellMetadata": {
      "byteLimit": 2048000,
      "rowLimit": 10000
     },
     "inputWidgets": {},
     "nuid": "f7c12684-6a64-4c8c-9744-457472afd7b5",
     "showTitle": false,
     "tableResultSettingsMap": {},
     "title": ""
    }
   },
   "outputs": [
    {
     "output_type": "stream",
     "name": "stdout",
     "output_type": "stream",
     "text": [
      "Número de valores em branco na coluna 'id': 0\n"
     ]
    }
   ],
   "source": [
    "# Contar valores em branco\n",
    "blank_count = df.filter(col(\"id\") == \"\").count()\n",
    "print(f\"Número de valores em branco na coluna 'id': {blank_count}\")\n"
   ]
  },
  {
   "cell_type": "code",
   "execution_count": 0,
   "metadata": {
    "application/vnd.databricks.v1+cell": {
     "cellMetadata": {
      "byteLimit": 2048000,
      "rowLimit": 10000
     },
     "inputWidgets": {},
     "nuid": "5078e40b-a895-4253-b62d-5d7e37780cd0",
     "showTitle": false,
     "tableResultSettingsMap": {},
     "title": ""
    }
   },
   "outputs": [
    {
     "output_type": "stream",
     "name": "stdout",
     "output_type": "stream",
     "text": [
      "Número de valores duplicados na coluna 'id': 0\n"
     ]
    }
   ],
   "source": [
    "# Contar valores duplicados\n",
    "duplicate_count = df.groupBy(\"id\").count().filter(\"count > 1\").count()\n",
    "print(f\"Número de valores duplicados na coluna 'id': {duplicate_count}\")\n"
   ]
  },
  {
   "cell_type": "markdown",
   "metadata": {
    "application/vnd.databricks.v1+cell": {
     "cellMetadata": {
      "byteLimit": 2048000,
      "rowLimit": 10000
     },
     "inputWidgets": {},
     "nuid": "b50f5391-2d33-4887-a0a8-e370238d158d",
     "showTitle": false,
     "tableResultSettingsMap": {},
     "title": ""
    }
   },
   "source": [
    "Conclusão: id é uma ótima **chave-primária** de fato: sem valores nulos ou em branco ou repetidos. Vamos de qualquer forma ordenar a eliminação de valores nulos, em branco ou repetidos, caso este problema aconteça em futuras leituras da API do USGS."
   ]
  },
  {
   "cell_type": "code",
   "execution_count": 0,
   "metadata": {
    "application/vnd.databricks.v1+cell": {
     "cellMetadata": {
      "byteLimit": 2048000,
      "rowLimit": 10000
     },
     "inputWidgets": {},
     "nuid": "d3ab3605-53d1-4abf-a397-f42fa55abfb8",
     "showTitle": false,
     "tableResultSettingsMap": {},
     "title": ""
    }
   },
   "outputs": [
    {
     "output_type": "stream",
     "name": "stdout",
     "output_type": "stream",
     "text": [
      "Out[11]: 399"
     ]
    }
   ],
   "source": [
    "df = df.filter(df[\"id\"].isNotNull())\n",
    "df = df.filter(df[\"id\"] != \"\")\n",
    "df = df.dropDuplicates([\"id\"])\n",
    "df.count() ### O resultado da contagem deve ser igual à contagem anterior, evidenciando que não havia valores nulos, em branco ou duplicados."
   ]
  },
  {
   "cell_type": "markdown",
   "metadata": {
    "application/vnd.databricks.v1+cell": {
     "cellMetadata": {
      "byteLimit": 2048000,
      "rowLimit": 10000
     },
     "inputWidgets": {},
     "nuid": "9dbea665-f830-44b5-976a-04cd18a7975b",
     "showTitle": false,
     "tableResultSettingsMap": {},
     "title": ""
    }
   },
   "source": [
    "**Analisando a coluna prop_mag**"
   ]
  },
  {
   "cell_type": "code",
   "execution_count": 0,
   "metadata": {
    "application/vnd.databricks.v1+cell": {
     "cellMetadata": {
      "byteLimit": 2048000,
      "rowLimit": 10000
     },
     "inputWidgets": {},
     "nuid": "3f3a1c31-5671-4b44-977f-9a15703b96c6",
     "showTitle": false,
     "tableResultSettingsMap": {},
     "title": ""
    }
   },
   "outputs": [
    {
     "output_type": "stream",
     "name": "stdout",
     "output_type": "stream",
     "text": [
      "+-------+------------------+\n|summary|          prop_mag|\n+-------+------------------+\n|  count|               399|\n|   mean| 5.404260651629068|\n| stddev|0.4709734303451008|\n|    min|               5.0|\n|    max|               7.8|\n+-------+------------------+\n\n"
     ]
    }
   ],
   "source": [
    "df.select('prop_mag').describe().show() \n"
   ]
  },
  {
   "cell_type": "code",
   "execution_count": 0,
   "metadata": {
    "application/vnd.databricks.v1+cell": {
     "cellMetadata": {
      "byteLimit": 2048000,
      "rowLimit": 10000
     },
     "inputWidgets": {},
     "nuid": "cd7bf92e-eefb-4402-aa39-d4b5097f8ceb",
     "showTitle": false,
     "tableResultSettingsMap": {},
     "title": ""
    }
   },
   "outputs": [
    {
     "output_type": "stream",
     "name": "stdout",
     "output_type": "stream",
     "text": [
      "Out[13]: [Text(0.5, 1.0, 'Histograma dos valores de properties.mag'),\n Text(0.5, 0, 'Magnitude'),\n Text(0, 0.5, 'Frequência')]"
     ]
    },
    {
     "output_type": "display_data",
     "data": {
      "image/png": "[encoded data removed]"
     },
     "metadata": {
      "application/vnd.databricks.v1+output": {
       "addedWidgets": {},
       "arguments": {},
       "data": "data:image/png;base64,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\n",
       "datasetInfos": [],
       "metadata": {},
       "removedWidgets": [],
       "type": "image"
      }
     },
     "output_type": "display_data"
    }
   ],
   "source": [
    "# Extrair os valores da coluna 'prop_mag'\n",
    "mag_values = df.select(\"prop_mag\").rdd.flatMap(lambda x: x).collect()\n",
    "\n",
    "# Plotar o histograma usando seaborn\n",
    "sns.histplot(mag_values, bins=30, kde=False).set(title='Histograma dos valores de properties.mag', xlabel='Magnitude', ylabel='Frequência')\n"
   ]
  },
  {
   "cell_type": "markdown",
   "metadata": {
    "application/vnd.databricks.v1+cell": {
     "cellMetadata": {
      "byteLimit": 2048000,
      "rowLimit": 10000
     },
     "inputWidgets": {},
     "nuid": "d9d32fa1-bc5b-4365-bc85-560acf972d41",
     "showTitle": false,
     "tableResultSettingsMap": {},
     "title": ""
    }
   },
   "source": [
    "**Analisando magType**"
   ]
  },
  {
   "cell_type": "code",
   "execution_count": 0,
   "metadata": {
    "application/vnd.databricks.v1+cell": {
     "cellMetadata": {
      "byteLimit": 2048000,
      "rowLimit": 10000
     },
     "inputWidgets": {},
     "nuid": "555f9d74-5547-49c2-bb90-e1328e2c0b7c",
     "showTitle": false,
     "tableResultSettingsMap": {},
     "title": ""
    }
   },
   "outputs": [
    {
     "output_type": "stream",
     "name": "stdout",
     "output_type": "stream",
     "text": [
      "+-------+------------+\n|summary|prop_magType|\n+-------+------------+\n|  count|         399|\n|   mean|        null|\n| stddev|        null|\n|    min|          Mi|\n|    max|         mww|\n+-------+------------+\n\n"
     ]
    }
   ],
   "source": [
    "df.select('prop_magType').describe().show()"
   ]
  },
  {
   "cell_type": "code",
   "execution_count": 0,
   "metadata": {
    "application/vnd.databricks.v1+cell": {
     "cellMetadata": {
      "byteLimit": 2048000,
      "rowLimit": 10000
     },
     "inputWidgets": {},
     "nuid": "d1197f99-87b6-4a63-bfeb-5037fecdeaac",
     "showTitle": false,
     "tableResultSettingsMap": {},
     "title": ""
    }
   },
   "outputs": [
    {
     "output_type": "display_data",
     "data": {
      "image/png": "[encoded data removed]"
     },
     "metadata": {
      "application/vnd.databricks.v1+output": {
       "addedWidgets": {},
       "arguments": {},
       "data": "data:image/png;base64,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\n",
       "datasetInfos": [],
       "metadata": {},
       "removedWidgets": [],
       "type": "image"
      }
     },
     "output_type": "display_data"
    }
   ],
   "source": [
    "\n",
    "# Converter para Pandas DataFrame para visualização\n",
    "pdf = df.select(\"prop_magType\").toPandas()\n",
    "\n",
    "# Plotar o histograma da coluna magType com categorias na vertical e barras horizontais\n",
    "sns.countplot(y='prop_magType', data=pdf)\n",
    "plt.title('Distribuição dos Tipos de Magnitude')\n",
    "plt.xlabel('Contagem de Eventos')\n",
    "plt.ylabel('Tipo de Magnitude')\n",
    "plt.show()\n"
   ]
  },
  {
   "cell_type": "markdown",
   "metadata": {
    "application/vnd.databricks.v1+cell": {
     "cellMetadata": {
      "byteLimit": 2048000,
      "rowLimit": 10000
     },
     "inputWidgets": {},
     "nuid": "3ebcc64e-0e91-429a-9d70-65e9a2c74c80",
     "showTitle": false,
     "tableResultSettingsMap": {},
     "title": ""
    }
   },
   "source": [
    "https://www.usgs.gov/programs/earthquake-hazards/magnitude-types\n"
   ]
  },
  {
   "cell_type": "markdown",
   "metadata": {
    "application/vnd.databricks.v1+cell": {
     "cellMetadata": {
      "byteLimit": 2048000,
      "rowLimit": 10000
     },
     "inputWidgets": {},
     "nuid": "e58e92bd-8b2f-4b2c-999e-d85d548f1bb6",
     "showTitle": false,
     "tableResultSettingsMap": {},
     "title": ""
    }
   },
   "source": [
    "**Analisando a coluna prop_time**"
   ]
  },
  {
   "cell_type": "code",
   "execution_count": 0,
   "metadata": {
    "application/vnd.databricks.v1+cell": {
     "cellMetadata": {
      "byteLimit": 2048000,
      "rowLimit": 10000
     },
     "inputWidgets": {},
     "nuid": "516fbfde-b180-4017-87d1-d662ce793013",
     "showTitle": false,
     "tableResultSettingsMap": {},
     "title": ""
    }
   },
   "outputs": [
    {
     "output_type": "stream",
     "name": "stdout",
     "output_type": "stream",
     "text": [
      "+-------+--------------------+\n|summary|           prop_time|\n+-------+--------------------+\n|  count|                 399|\n|   mean|1.425577777969837...|\n| stddev|1.917314939694194...|\n|    min|       1106281829010|\n|    max|       1742568656000|\n+-------+--------------------+\n\n"
     ]
    }
   ],
   "source": [
    "# Calcular estatísticas descritivas para a coluna de tempo\n",
    "df.describe(\"prop_time\").show()\n"
   ]
  },
  {
   "cell_type": "markdown",
   "metadata": {
    "application/vnd.databricks.v1+cell": {
     "cellMetadata": {
      "byteLimit": 2048000,
      "rowLimit": 10000
     },
     "inputWidgets": {},
     "nuid": "fd59c0c6-f56e-45a6-b089-d8b0dafdd9ea",
     "showTitle": false,
     "tableResultSettingsMap": {},
     "title": ""
    }
   },
   "source": [
    "esse formato de tempo não é amigável. Vamos corrigir isso."
   ]
  },
  {
   "cell_type": "code",
   "execution_count": 0,
   "metadata": {
    "application/vnd.databricks.v1+cell": {
     "cellMetadata": {
      "byteLimit": 2048000,
      "rowLimit": 10000
     },
     "inputWidgets": {},
     "nuid": "bcab8aa1-10d4-4589-a463-7131a88e4475",
     "showTitle": false,
     "tableResultSettingsMap": {},
     "title": ""
    }
   },
   "outputs": [
    {
     "output_type": "stream",
     "name": "stdout",
     "output_type": "stream",
     "text": [
      "root\n |-- id: string (nullable = true)\n |-- prop_mag: double (nullable = true)\n |-- prop_url: string (nullable = true)\n |-- prop_sig: long (nullable = true)\n |-- prop_magType: string (nullable = true)\n |-- prop_type: string (nullable = true)\n |-- geometry_type: string (nullable = true)\n |-- geometry_coordinates: array (nullable = true)\n |    |-- element: double (containsNull = true)\n |-- data: date (nullable = true)\n\n"
     ]
    }
   ],
   "source": [
    "spark.conf.set(\"spark.sql.legacy.timeParserPolicy\", \"LEGACY\") #definindo como fazer o \"parse\"\n",
    "\n",
    "# Converter o tempo de milissegundos para um formato de data legível\n",
    "df_com_data = df.withColumn(\"data\", to_date(from_unixtime(col(\"prop_time\") / 1000), \"yyyy-MM-dd\"))\n",
    "df = df_com_data\n",
    "\n",
    "# Deletando a coluna prop_time\n",
    "df = df.drop(\"prop_time\") # Não vamos mais usar.\n",
    "\n",
    "# Verificar o novo esquema\n",
    "df.printSchema()\n",
    "\n",
    "\n"
   ]
  },
  {
   "cell_type": "code",
   "execution_count": 0,
   "metadata": {
    "application/vnd.databricks.v1+cell": {
     "cellMetadata": {
      "byteLimit": 2048000,
      "rowLimit": 10000
     },
     "inputWidgets": {},
     "nuid": "1febe740-e05b-42cb-b267-54a1710b1ff2",
     "showTitle": false,
     "tableResultSettingsMap": {},
     "title": ""
    }
   },
   "outputs": [
    {
     "output_type": "stream",
     "name": "stdout",
     "output_type": "stream",
     "text": [
      "Out[18]: [Row(id='at00sthakw', prop_mag=6.5, prop_url='https://earthquake.usgs.gov/earthquakes/eventpage/at00sthakw', prop_sig=650, prop_magType='Mi', prop_type='earthquake', geometry_type='Point', geometry_coordinates=[-82.3, 7.2, 10.0], data=datetime.date(2025, 3, 21)),\n Row(id='us10001ldx', prop_mag=6.2, prop_url='https://earthquake.usgs.gov/earthquakes/eventpage/us10001ldx', prop_sig=842, prop_magType='mww', prop_type='earthquake', geometry_type='Point', geometry_coordinates=[-72.9875, 6.7757, 155.0], data=datetime.date(2015, 3, 10)),\n Row(id='us10001pn4', prop_mag=5.1, prop_url='https://earthquake.usgs.gov/earthquakes/eventpage/us10001pn4', prop_sig=418, prop_magType='mwr', prop_type='earthquake', geometry_type='Point', geometry_coordinates=[-73.147, 6.804, 154.6], data=datetime.date(2015, 3, 22)),\n Row(id='us10001rcr', prop_mag=5.5, prop_url='https://earthquake.usgs.gov/earthquakes/eventpage/us10001rcr', prop_sig=468, prop_magType='mww', prop_type='earthquake', geometry_type='Point', geometry_coordinates=[-77.5836, -1.2012, 195.03], data=datetime.date(2015, 3, 27)),\n Row(id='us10002azw', prop_mag=5.1, prop_url='https://earthquake.usgs.gov/earthquakes/eventpage/us10002azw', prop_sig=400, prop_magType='mb', prop_type='earthquake', geometry_type='Point', geometry_coordinates=[-77.5501, -3.0826, 8.45], data=datetime.date(2015, 5, 20))]"
     ]
    }
   ],
   "source": [
    "# Mostrar algumas linhas do DataFrame resultante\n",
    "df.head(5)"
   ]
  },
  {
   "cell_type": "markdown",
   "metadata": {
    "application/vnd.databricks.v1+cell": {
     "cellMetadata": {
      "byteLimit": 2048000,
      "rowLimit": 10000
     },
     "inputWidgets": {},
     "nuid": "09a758e3-4777-4150-9b1b-d78bd993e618",
     "showTitle": false,
     "tableResultSettingsMap": {},
     "title": ""
    }
   },
   "source": [
    "ótimo, agora temos dados legíveis sobre o momento de ocorrência dos terremotos."
   ]
  },
  {
   "cell_type": "code",
   "execution_count": 0,
   "metadata": {
    "application/vnd.databricks.v1+cell": {
     "cellMetadata": {
      "byteLimit": 2048000,
      "rowLimit": 10000
     },
     "inputWidgets": {},
     "nuid": "d8ae3bad-f23e-49b5-81be-829e0ff9846e",
     "showTitle": false,
     "tableResultSettingsMap": {},
     "title": ""
    }
   },
   "outputs": [
    {
     "output_type": "stream",
     "name": "stdout",
     "output_type": "stream",
     "text": [
      "Número de valores nulos na coluna 'data': 0\nNúmero de valores em branco na coluna 'data': 0\n"
     ]
    }
   ],
   "source": [
    "# Contar valores nulos\n",
    "null_count = df.filter(col(\"data\").isNull()).count()\n",
    "print(f\"Número de valores nulos na coluna 'data': {null_count}\")\n",
    "\n",
    "# Contar valores em branco\n",
    "blank_count = df.filter(col(\"data\") == \"\").count()\n",
    "print(f\"Número de valores em branco na coluna 'data': {blank_count}\")\n"
   ]
  },
  {
   "cell_type": "code",
   "execution_count": 0,
   "metadata": {
    "application/vnd.databricks.v1+cell": {
     "cellMetadata": {
      "byteLimit": 2048000,
      "rowLimit": 10000
     },
     "inputWidgets": {},
     "nuid": "f34496a9-88b7-43f9-9def-ca53351ed1cf",
     "showTitle": false,
     "tableResultSettingsMap": {},
     "title": ""
    }
   },
   "outputs": [
    {
     "output_type": "stream",
     "name": "stdout",
     "output_type": "stream",
     "text": [
      "Out[20]: 399"
     ]
    }
   ],
   "source": [
    "df.count()"
   ]
  },
  {
   "cell_type": "code",
   "execution_count": 0,
   "metadata": {
    "application/vnd.databricks.v1+cell": {
     "cellMetadata": {
      "byteLimit": 2048000,
      "rowLimit": 10000
     },
     "inputWidgets": {},
     "nuid": "53e64209-f5df-4fb8-9d5c-8a6b34f0e600",
     "showTitle": false,
     "tableResultSettingsMap": {},
     "title": ""
    }
   },
   "outputs": [
    {
     "output_type": "stream",
     "name": "stdout",
     "output_type": "stream",
     "text": [
      "Out[21]: 399"
     ]
    }
   ],
   "source": [
    "df = df.filter(df[\"data\"].isNotNull())\n",
    "\n",
    "df.count() ### O resultado da contagem deve ser igual à contagem anterior, evidenciando que não havia valores nulos."
   ]
  },
  {
   "cell_type": "markdown",
   "metadata": {
    "application/vnd.databricks.v1+cell": {
     "cellMetadata": {
      "byteLimit": 2048000,
      "rowLimit": 10000
     },
     "inputWidgets": {},
     "nuid": "d947ebf9-47de-43b0-adae-7e27feaeec5a",
     "showTitle": false,
     "tableResultSettingsMap": {},
     "title": ""
    }
   },
   "source": [
    "**Analisando a coluna sig**"
   ]
  },
  {
   "cell_type": "code",
   "execution_count": 0,
   "metadata": {
    "application/vnd.databricks.v1+cell": {
     "cellMetadata": {
      "byteLimit": 2048000,
      "rowLimit": 10000
     },
     "inputWidgets": {},
     "nuid": "c1471ce2-87ed-4fc7-89c4-ee4ad7c5525d",
     "showTitle": false,
     "tableResultSettingsMap": {},
     "title": ""
    }
   },
   "outputs": [
    {
     "output_type": "stream",
     "name": "stdout",
     "output_type": "stream",
     "text": [
      "+-------+------------------+\n|summary|          prop_sig|\n+-------+------------------+\n|  count|               399|\n|   mean|478.83709273182956|\n| stddev|132.63004816386314|\n|    min|               385|\n|    max|              1292|\n+-------+------------------+\n\n"
     ]
    }
   ],
   "source": [
    "df.select('prop_sig').describe().show() "
   ]
  },
  {
   "cell_type": "code",
   "execution_count": 0,
   "metadata": {
    "application/vnd.databricks.v1+cell": {
     "cellMetadata": {
      "byteLimit": 2048000,
      "rowLimit": 10000
     },
     "inputWidgets": {},
     "nuid": "341975bf-392e-4d59-8bb7-97a5b3a867b2",
     "showTitle": false,
     "tableResultSettingsMap": {},
     "title": ""
    }
   },
   "outputs": [
    {
     "output_type": "stream",
     "name": "stdout",
     "output_type": "stream",
     "text": [
      "Out[23]: [Text(0.5, 1.0, 'Histograma dos valores de prop_sig'),\n Text(0.5, 0, 'Significância'),\n Text(0, 0.5, 'Frequência')]"
     ]
    },
    {
     "output_type": "display_data",
     "data": {
      "image/png": "[encoded data removed]"
     },
     "metadata": {
      "application/vnd.databricks.v1+output": {
       "addedWidgets": {},
       "arguments": {},
       "data": "data:image/png;base64,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\n",
       "datasetInfos": [],
       "metadata": {},
       "removedWidgets": [],
       "type": "image"
      }
     },
     "output_type": "display_data"
    }
   ],
   "source": [
    "# Extrair os valores da coluna 'prop_mag'\n",
    "sig_values = df.select(\"prop_sig\").rdd.flatMap(lambda x: x).collect()\n",
    "\n",
    "# Plotar o histograma usando seaborn\n",
    "sns.histplot(sig_values, bins=30, kde=False).set(title='Histograma dos valores de prop_sig', xlabel='Significância', ylabel='Frequência')"
   ]
  },
  {
   "cell_type": "markdown",
   "metadata": {
    "application/vnd.databricks.v1+cell": {
     "cellMetadata": {
      "byteLimit": 2048000,
      "rowLimit": 10000
     },
     "inputWidgets": {},
     "nuid": "12dc0168-96e5-46d9-9683-14dce2b3211d",
     "showTitle": false,
     "tableResultSettingsMap": {},
     "title": ""
    }
   },
   "source": [
    "Comparando Mag e Sig"
   ]
  },
  {
   "cell_type": "code",
   "execution_count": 0,
   "metadata": {
    "application/vnd.databricks.v1+cell": {
     "cellMetadata": {
      "byteLimit": 2048000,
      "rowLimit": 10000
     },
     "inputWidgets": {},
     "nuid": "937dcf32-d9ce-4036-ab18-fae8ab3bda86",
     "showTitle": false,
     "tableResultSettingsMap": {},
     "title": ""
    }
   },
   "outputs": [
    {
     "output_type": "stream",
     "name": "stdout",
     "output_type": "stream",
     "text": [
      "Correlação entre prop_mag e prop_sig: 0.858571202916535\n"
     ]
    },
    {
     "output_type": "display_data",
     "data": {
      "image/png": "[encoded data removed]"
     },
     "metadata": {
      "application/vnd.databricks.v1+output": {
       "addedWidgets": {},
       "arguments": {},
       "data": "data:image/png;base64,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\n",
       "datasetInfos": [],
       "metadata": {},
       "removedWidgets": [],
       "type": "image"
      }
     },
     "output_type": "display_data"
    }
   ],
   "source": [
    "import seaborn as sns\n",
    "import matplotlib.pyplot as plt\n",
    "from pyspark.sql.functions import col\n",
    "\n",
    "# Selecionar as colunas prop_mag e prop_sig\n",
    "df_selected = df.select(col(\"prop_mag\"), col(\"prop_sig\"))\n",
    "\n",
    "# Converter para Pandas DataFrame para visualização e cálculo de correlação\n",
    "pdf_selected = df_selected.toPandas()\n",
    "\n",
    "# Calcular a correlação entre prop_mag e prop_sig\n",
    "correlation = pdf_selected['prop_mag'].corr(pdf_selected['prop_sig'])\n",
    "print(f\"Correlação entre prop_mag e prop_sig: {correlation}\")\n",
    "\n",
    "# Plotar a correlação usando Seaborn\n",
    "sns.scatterplot(x='prop_mag', y='prop_sig', data=pdf_selected)\n",
    "plt.title('Correlação entre Magnitude e Significância')\n",
    "plt.xlabel('Magnitude (prop_mag)')\n",
    "plt.ylabel('Significância (prop_sig)')\n",
    "plt.show()\n"
   ]
  },
  {
   "cell_type": "markdown",
   "metadata": {
    "application/vnd.databricks.v1+cell": {
     "cellMetadata": {
      "byteLimit": 2048000,
      "rowLimit": 10000
     },
     "inputWidgets": {},
     "nuid": "b4ba18e4-03a8-4544-9a7a-fb158c15ffe4",
     "showTitle": false,
     "tableResultSettingsMap": {},
     "title": ""
    }
   },
   "source": [
    "Como existe uma alta correlação entre Mag e Sig, porém Sig é afetado por outros fatores além da energia liberada, vamos utilizar Mag. Apesar de existirem diferentes métodos para cálculo de Mag, no final todos representam o mesmo conceito (energia liberada) e utilizam a mesma unidade de medida."
   ]
  },
  {
   "cell_type": "code",
   "execution_count": 0,
   "metadata": {
    "application/vnd.databricks.v1+cell": {
     "cellMetadata": {
      "byteLimit": 2048000,
      "rowLimit": 10000
     },
     "inputWidgets": {},
     "nuid": "77cc76fe-2ae1-42cb-8f45-17fba530c576",
     "showTitle": false,
     "tableResultSettingsMap": {},
     "title": ""
    }
   },
   "outputs": [
    {
     "output_type": "stream",
     "name": "stdout",
     "output_type": "stream",
     "text": [
      "root\n |-- id: string (nullable = true)\n |-- prop_mag: double (nullable = true)\n |-- prop_url: string (nullable = true)\n |-- prop_type: string (nullable = true)\n |-- geometry_type: string (nullable = true)\n |-- geometry_coordinates: array (nullable = true)\n |    |-- element: double (containsNull = true)\n |-- data: date (nullable = true)\n\n"
     ]
    }
   ],
   "source": [
    "df = df.drop(\"prop_sig\")\n",
    "df = df.drop(\"prop_magType\") ### Também não vamos precisar disto para esta análise\n",
    "df.printSchema()"
   ]
  },
  {
   "cell_type": "markdown",
   "metadata": {
    "application/vnd.databricks.v1+cell": {
     "cellMetadata": {
      "byteLimit": 2048000,
      "rowLimit": 10000
     },
     "inputWidgets": {},
     "nuid": "3b7a7e1b-705c-4fbc-90df-552b4d750d4d",
     "showTitle": false,
     "tableResultSettingsMap": {},
     "title": ""
    }
   },
   "source": [
    "**Analisando prop_type**"
   ]
  },
  {
   "cell_type": "code",
   "execution_count": 0,
   "metadata": {
    "application/vnd.databricks.v1+cell": {
     "cellMetadata": {
      "byteLimit": 2048000,
      "rowLimit": 10000
     },
     "inputWidgets": {},
     "nuid": "0dd30f55-0169-4c22-b11d-4a44b38fa541",
     "showTitle": false,
     "tableResultSettingsMap": {},
     "title": ""
    }
   },
   "outputs": [
    {
     "output_type": "display_data",
     "data": {
      "image/png": "[encoded data removed]"
     },
     "metadata": {
      "application/vnd.databricks.v1+output": {
       "addedWidgets": {},
       "arguments": {},
       "data": "data:image/png;base64,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\n",
       "datasetInfos": [],
       "metadata": {},
       "removedWidgets": [],
       "type": "image"
      }
     },
     "output_type": "display_data"
    }
   ],
   "source": [
    "# Converter para Pandas DataFrame para visualização\n",
    "pdf = df.select(\"prop_type\").toPandas()\n",
    "\n",
    "# Plotar o histograma da coluna prop_type com categorias na vertical e barras horizontais\n",
    "sns.countplot(y='prop_type', data=pdf)\n",
    "plt.title('Distribuição')\n",
    "plt.xlabel('Contagem de Eventos')\n",
    "plt.ylabel('Tipos')\n",
    "plt.show()"
   ]
  },
  {
   "cell_type": "markdown",
   "metadata": {
    "application/vnd.databricks.v1+cell": {
     "cellMetadata": {
      "byteLimit": 2048000,
      "rowLimit": 10000
     },
     "inputWidgets": {},
     "nuid": "9e8628b7-16fa-4cd2-ba2a-fc8422417f23",
     "showTitle": false,
     "tableResultSettingsMap": {},
     "title": ""
    }
   },
   "source": [
    "só existe 1 tipo de evento, que é earthquake, neste dataset. Vamos implementar um filtro para garantir que não haja outros tipos em consultas futuras, e aí podemos excluir a coluna também."
   ]
  },
  {
   "cell_type": "code",
   "execution_count": 0,
   "metadata": {
    "application/vnd.databricks.v1+cell": {
     "cellMetadata": {
      "byteLimit": 2048000,
      "rowLimit": 10000
     },
     "inputWidgets": {},
     "nuid": "bb139b48-10d6-43f2-a697-1df473b6f715",
     "showTitle": false,
     "tableResultSettingsMap": {},
     "title": ""
    }
   },
   "outputs": [
    {
     "output_type": "stream",
     "name": "stdout",
     "output_type": "stream",
     "text": [
      "root\n |-- id: string (nullable = true)\n |-- prop_mag: double (nullable = true)\n |-- prop_url: string (nullable = true)\n |-- geometry_type: string (nullable = true)\n |-- geometry_coordinates: array (nullable = true)\n |    |-- element: double (containsNull = true)\n |-- data: date (nullable = true)\n\n"
     ]
    }
   ],
   "source": [
    "\n",
    "# Filtrando o DataFrame para manter apenas as linhas onde prop_type é \"earthquake\"\n",
    "df_filtered = df.filter(df.prop_type == \"earthquake\")\n",
    "\n",
    "# Deletando a coluna prop_type\n",
    "df = df_filtered.drop(\"prop_type\") # Não vamos usar, mas pelo menos garantimos que nada diferente de earthquake estará em análises futuras.\n",
    "\n",
    "# Como está o dataset\n",
    "df.printSchema()"
   ]
  },
  {
   "cell_type": "markdown",
   "metadata": {
    "application/vnd.databricks.v1+cell": {
     "cellMetadata": {
      "byteLimit": 2048000,
      "rowLimit": 10000
     },
     "inputWidgets": {},
     "nuid": "b2e93e97-a1ea-4613-84d0-200508032b09",
     "showTitle": false,
     "tableResultSettingsMap": {},
     "title": ""
    }
   },
   "source": [
    "**analisando geometry_type ***\n"
   ]
  },
  {
   "cell_type": "code",
   "execution_count": 0,
   "metadata": {
    "application/vnd.databricks.v1+cell": {
     "cellMetadata": {
      "byteLimit": 2048000,
      "rowLimit": 10000
     },
     "inputWidgets": {},
     "nuid": "e4cf465d-607c-49c0-a053-e9204654d27f",
     "showTitle": false,
     "tableResultSettingsMap": {},
     "title": ""
    }
   },
   "outputs": [
    {
     "output_type": "display_data",
     "data": {
      "image/png": "[encoded data removed]"
     },
     "metadata": {
      "application/vnd.databricks.v1+output": {
       "addedWidgets": {},
       "arguments": {},
       "data": "data:image/png;base64,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\n",
       "datasetInfos": [],
       "metadata": {},
       "removedWidgets": [],
       "type": "image"
      }
     },
     "output_type": "display_data"
    }
   ],
   "source": [
    "# Converter para Pandas DataFrame para visualização\n",
    "pdf = df.select(\"geometry_type\").toPandas()\n",
    "\n",
    "# Plotar o histograma da coluna geometry_type com categorias na vertical e barras horizontais\n",
    "sns.countplot(y='geometry_type', data=pdf)\n",
    "plt.title('Distribuição')\n",
    "plt.xlabel('Contagem de Eventos')\n",
    "plt.ylabel('Tipos')\n",
    "plt.show()"
   ]
  },
  {
   "cell_type": "code",
   "execution_count": 0,
   "metadata": {
    "application/vnd.databricks.v1+cell": {
     "cellMetadata": {
      "byteLimit": 2048000,
      "rowLimit": 10000
     },
     "inputWidgets": {},
     "nuid": "95cddda5-06ea-408c-b4da-02f79b91ad1d",
     "showTitle": false,
     "tableResultSettingsMap": {},
     "title": ""
    }
   },
   "outputs": [
    {
     "output_type": "stream",
     "name": "stdout",
     "output_type": "stream",
     "text": [
      "root\n |-- id: string (nullable = true)\n |-- prop_mag: double (nullable = true)\n |-- prop_url: string (nullable = true)\n |-- geometry_coordinates: array (nullable = true)\n |    |-- element: double (containsNull = true)\n |-- data: date (nullable = true)\n\n"
     ]
    }
   ],
   "source": [
    "## Seguindo a mesma estratégia anterior, vamos garantir que só haja geometry_type == \"Point\"\n",
    "# Filtrando o DataFrame para manter apenas as linhas onde geomatry_type é \"Point\"\n",
    "df_filtered = df.filter(df.geometry_type == \"Point\")\n",
    "\n",
    "# Deletando a coluna geometry_type\n",
    "df = df_filtered.drop(\"geometry_type\") # Não vamos usar, mas pelo menos garantimos que nada diferente de Point estará em análises futuras.\n",
    "\n",
    "# Como está o dataset\n",
    "df.printSchema()"
   ]
  },
  {
   "cell_type": "markdown",
   "metadata": {
    "application/vnd.databricks.v1+cell": {
     "cellMetadata": {
      "byteLimit": 2048000,
      "rowLimit": 10000
     },
     "inputWidgets": {},
     "nuid": "cec18148-2350-4df8-b0ca-f2fec6af0a1e",
     "showTitle": false,
     "tableResultSettingsMap": {},
     "title": ""
    }
   },
   "source": [
    "**Finalmente analisando coordenadas**"
   ]
  },
  {
   "cell_type": "code",
   "execution_count": 0,
   "metadata": {
    "application/vnd.databricks.v1+cell": {
     "cellMetadata": {
      "byteLimit": 2048000,
      "rowLimit": 10000
     },
     "inputWidgets": {},
     "nuid": "26accb00-ec0a-4eeb-b4cb-397a1e6d4ef2",
     "showTitle": false,
     "tableResultSettingsMap": {},
     "title": ""
    }
   },
   "outputs": [
    {
     "output_type": "stream",
     "name": "stdout",
     "output_type": "stream",
     "text": [
      "Out[30]: [Row(geometry_coordinates=[-82.3, 7.2, 10.0]),\n Row(geometry_coordinates=[-72.9875, 6.7757, 155.0]),\n Row(geometry_coordinates=[-73.147, 6.804, 154.6]),\n Row(geometry_coordinates=[-77.5836, -1.2012, 195.03]),\n Row(geometry_coordinates=[-77.5501, -3.0826, 8.45]),\n Row(geometry_coordinates=[-82.6431, 5.18, 10.0]),\n Row(geometry_coordinates=[-77.476, 7.5362, 10.0]),\n Row(geometry_coordinates=[-73.3038, 7.6522, 125.68]),\n Row(geometry_coordinates=[-78.7623, -2.5015, 97.13]),\n Row(geometry_coordinates=[-71.3957, 8.4672, 15.12])]"
     ]
    }
   ],
   "source": [
    "df.select(\"geometry_coordinates\").head(10)"
   ]
  },
  {
   "cell_type": "markdown",
   "metadata": {
    "application/vnd.databricks.v1+cell": {
     "cellMetadata": {
      "byteLimit": 2048000,
      "rowLimit": 10000
     },
     "inputWidgets": {},
     "nuid": "bcc1dff2-6fef-4707-96f5-661f3e459d5b",
     "showTitle": false,
     "tableResultSettingsMap": {},
     "title": ""
    }
   },
   "source": [
    "Observamos que a informação vem como um vetor de 3 dígitos: longitude, latitude e profundidade. Para nossa análise não usaremos profundidade, assim podemos descartá-la. Além disso, será melhor termos latitude e longitude como colunas independentes. Isso vai facilitar as análises no futuro."
   ]
  },
  {
   "cell_type": "code",
   "execution_count": 0,
   "metadata": {
    "application/vnd.databricks.v1+cell": {
     "cellMetadata": {
      "byteLimit": 2048000,
      "rowLimit": 10000
     },
     "inputWidgets": {},
     "nuid": "8b88a3b6-6b87-4ab2-ae60-f10c2bf38be8",
     "showTitle": false,
     "tableResultSettingsMap": {},
     "title": ""
    }
   },
   "outputs": [
    {
     "output_type": "stream",
     "name": "stdout",
     "output_type": "stream",
     "text": [
      "root\n |-- id: string (nullable = true)\n |-- prop_mag: double (nullable = true)\n |-- prop_url: string (nullable = true)\n |-- geometry_coordinates: array (nullable = true)\n |    |-- element: double (containsNull = true)\n |-- data: date (nullable = true)\n |-- latitude: double (nullable = true)\n |-- longitude: double (nullable = true)\n\n"
     ]
    }
   ],
   "source": [
    "\n",
    "# Criando as novas colunas latitude e longitude a partir da coluna geometry_coordinates\n",
    "df_com_coordenadas = df.withColumn(\"latitude\", col(\"geometry_coordinates\")[1])\n",
    "df_com_coordenadas = df_com_coordenadas.withColumn(\"longitude\", col(\"geometry_coordinates\")[0])\n",
    "df_com_coordenadas.printSchema()"
   ]
  },
  {
   "cell_type": "code",
   "execution_count": 0,
   "metadata": {
    "application/vnd.databricks.v1+cell": {
     "cellMetadata": {
      "byteLimit": 2048000,
      "rowLimit": 10000
     },
     "inputWidgets": {},
     "nuid": "9263a31c-a130-4ed5-94b6-8f477f6fe410",
     "showTitle": false,
     "tableResultSettingsMap": {},
     "title": ""
    }
   },
   "outputs": [],
   "source": [
    "# Deletando a coluna geometry_coordinates\n",
    "df = df_com_coordenadas.drop(\"geometry_coordinates\") "
   ]
  },
  {
   "cell_type": "markdown",
   "metadata": {
    "application/vnd.databricks.v1+cell": {
     "cellMetadata": {
      "byteLimit": 2048000,
      "rowLimit": 10000
     },
     "inputWidgets": {},
     "nuid": "7702d1c0-3134-41bb-9153-2dd6d99721f5",
     "showTitle": false,
     "tableResultSettingsMap": {},
     "title": ""
    }
   },
   "source": [
    "Determinando o país onde está o epicentro do terremoto"
   ]
  },
  {
   "cell_type": "code",
   "execution_count": 0,
   "metadata": {
    "application/vnd.databricks.v1+cell": {
     "cellMetadata": {
      "byteLimit": 2048000,
      "rowLimit": 10000
     },
     "inputWidgets": {},
     "nuid": "64d9f22b-92cf-466e-a67a-4e8805b3678f",
     "showTitle": false,
     "tableResultSettingsMap": {},
     "title": ""
    }
   },
   "outputs": [
    {
     "output_type": "stream",
     "name": "stdout",
     "output_type": "stream",
     "text": [
      "+----------+--------+--------------------+----------+--------+---------+------------+\n|        id|prop_mag|            prop_url|      data|latitude|longitude|        pais|\n+----------+--------+--------------------+----------+--------+---------+------------+\n|at00sthakw|     6.5|https://earthquak...|2025-03-21|     7.2|    -82.3|Desconhecido|\n|us10001ldx|     6.2|https://earthquak...|2015-03-10|  6.7757| -72.9875|    Colombia|\n|us10001pn4|     5.1|https://earthquak...|2015-03-22|   6.804|  -73.147|    Colombia|\n|us10001rcr|     5.5|https://earthquak...|2015-03-27| -1.2012| -77.5836|     Ecuador|\n|us10002azw|     5.1|https://earthquak...|2015-05-20| -3.0826| -77.5501|        Perú|\n|us100030j8|     5.4|https://earthquak...|2015-08-09|    5.18| -82.6431|Desconhecido|\n|us10003mxh|     5.2|https://earthquak...|2015-10-12|  7.5362|  -77.476|    Colombia|\n|us10003niy|     5.0|https://earthquak...|2015-10-14|  7.6522| -73.3038|    Colombia|\n|us10003nud|     5.4|https://earthquak...|2015-10-15| -2.5015| -78.7623|     Ecuador|\n|us10003vgf|     5.3|https://earthquak...|2015-11-07|  8.4672| -71.3957|   Venezuela|\n|us100040dr|     5.1|https://earthquak...|2015-11-22|  8.5217| -71.3869|   Venezuela|\n|us10004a6p|     5.0|https://earthquak...|2015-12-29|   6.862|  -76.701|    Colombia|\n|us10004vl0|     5.1|https://earthquak...|2016-03-06| -1.4279| -80.4011|     Ecuador|\n|us10004w8b|     5.0|https://earthquak...|2016-03-09|  6.8264| -73.0422|    Colombia|\n|us10005bsh|     5.4|https://earthquak...|2016-04-26| -0.1943| -80.7309|     Ecuador|\n|us10005i5t|     6.7|https://earthquak...|2016-05-18|  0.4261| -79.7899|     Ecuador|\n|us10005i9n|     6.9|https://earthquak...|2016-05-18|  0.4947|  -79.616|     Ecuador|\n|us100061tj|     5.5|https://earthquak...|2016-07-08| -0.4071| -80.8075|     Ecuador|\n|us100062hd|     5.9|https://earthquak...|2016-07-11|  0.5874| -79.6358|     Ecuador|\n|us100062hg|     6.3|https://earthquak...|2016-07-11|  0.5812|  -79.638|     Ecuador|\n+----------+--------+--------------------+----------+--------+---------+------------+\nonly showing top 20 rows\n\n"
     ]
    }
   ],
   "source": [
    "# Converter o DataFrame Spark para Pandas\n",
    "df_pandas = df.toPandas()\n",
    "\n",
    "# Inicializar o geocodificador\n",
    "geolocator = Nominatim(user_agent=\"DataBricksCommunityEdition\")\n",
    "\n",
    "# Realizar a geocodificação usando Pandas\n",
    "def reverse_geocode(lat, lon):\n",
    "    try:\n",
    "        time.sleep(1)\n",
    "        location = geolocator.reverse((lat, lon))\n",
    "        if location and \"country\" in location.raw[\"address\"]:\n",
    "            return location.raw[\"address\"][\"country\"]\n",
    "        return \"Desconhecido\"\n",
    "    except Exception:\n",
    "        return \"Erro\"\n",
    "\n",
    "# Aplicar a função ao DataFrame Pandas\n",
    "df_pandas[\"pais\"] = df_pandas.apply(lambda row: reverse_geocode(row[\"latitude\"], row[\"longitude\"]), axis=1)\n",
    "\n",
    "# Converter de volta para PySpark\n",
    "df = spark.createDataFrame(df_pandas)\n",
    "\n",
    "# Exibir o DataFrame final no PySpark\n",
    "df.show()\n"
   ]
  },
  {
   "cell_type": "markdown",
   "metadata": {
    "application/vnd.databricks.v1+cell": {
     "cellMetadata": {
      "byteLimit": 2048000,
      "rowLimit": 10000
     },
     "inputWidgets": {},
     "nuid": "1c9ca736-e9e7-4050-8059-5b64fb402de6",
     "showTitle": false,
     "tableResultSettingsMap": {},
     "title": ""
    }
   },
   "source": [
    "Assim ficou nosso dataset refinado."
   ]
  },
  {
   "cell_type": "code",
   "execution_count": 0,
   "metadata": {
    "application/vnd.databricks.v1+cell": {
     "cellMetadata": {
      "byteLimit": 2048000,
      "rowLimit": 10000
     },
     "inputWidgets": {},
     "nuid": "5b1a5585-4c32-4396-b238-a7f9c928a6be",
     "showTitle": false,
     "tableResultSettingsMap": {},
     "title": ""
    }
   },
   "outputs": [
    {
     "output_type": "stream",
     "name": "stdout",
     "output_type": "stream",
     "text": [
      "root\n |-- id: string (nullable = true)\n |-- prop_mag: double (nullable = true)\n |-- prop_url: string (nullable = true)\n |-- data: date (nullable = true)\n |-- latitude: double (nullable = true)\n |-- longitude: double (nullable = true)\n |-- pais: string (nullable = true)\n\n"
     ]
    }
   ],
   "source": [
    "df.printSchema()"
   ]
  },
  {
   "cell_type": "code",
   "execution_count": 0,
   "metadata": {
    "application/vnd.databricks.v1+cell": {
     "cellMetadata": {
      "byteLimit": 2048000,
      "rowLimit": 10000
     },
     "inputWidgets": {},
     "nuid": "6288bc48-5172-4c78-8a67-1019362f506d",
     "showTitle": false,
     "tableResultSettingsMap": {},
     "title": ""
    }
   },
   "outputs": [
    {
     "output_type": "stream",
     "name": "stdout",
     "output_type": "stream",
     "text": [
      "+-------+----------+-----------------+--------------------+-----------------+------------------+---------+\n|summary|        id|         prop_mag|            prop_url|         latitude|         longitude|     pais|\n+-------+----------+-----------------+--------------------+-----------------+------------------+---------+\n|  count|       399|              399|                 399|              399|               399|      399|\n|   mean|      null|5.404260651629072|                null|4.004657644110274|-78.54151052631579|     null|\n| stddev|      null|0.470973430345101|                null|3.798890448014465|3.5495313029670807|     null|\n|    min|at00sthakw|              5.0|https://earthquak...|           -4.035|            -82.86| Colombia|\n|    max|usp000jta1|              7.8|https://earthquak...|          12.2926|          -67.9035|Venezuela|\n+-------+----------+-----------------+--------------------+-----------------+------------------+---------+\n\n"
     ]
    }
   ],
   "source": [
    "\n",
    "# Criando um resumo do DataFrame\n",
    "summary = df.describe()\n",
    "summary.show()\n",
    "\n"
   ]
  },
  {
   "cell_type": "markdown",
   "metadata": {
    "application/vnd.databricks.v1+cell": {
     "cellMetadata": {
      "byteLimit": 2048000,
      "rowLimit": 10000
     },
     "inputWidgets": {},
     "nuid": "66200049-0557-49ed-b36c-9d872456f9ac",
     "showTitle": false,
     "tableResultSettingsMap": {},
     "title": ""
    }
   },
   "source": [
    "Este dataset é significativamente diferente do dataset original. Eliminamos colunas desnecessárias, fizemos checagens por dados, em branco ou repetidos (na coluna id, para ser usada como chave primária), convertemos tempo para colunas legíveis, e separamos as coordenadas latitude e longitude, cada uma com sua própria coluna, e até adicionamos colunas com informações extras obtidas por meio de APIs externas. Agora podemos persistir nossos dados como camada prata."
   ]
  },
  {
   "cell_type": "code",
   "execution_count": 0,
   "metadata": {
    "application/vnd.databricks.v1+cell": {
     "cellMetadata": {
      "byteLimit": 2048000,
      "rowLimit": 10000
     },
     "inputWidgets": {},
     "nuid": "bfa79b6c-ae2d-4293-b8bc-ec85bb3267fa",
     "showTitle": false,
     "tableResultSettingsMap": {},
     "title": ""
    }
   },
   "outputs": [],
   "source": [
    "\n",
    "# Caminho para salvar o DataFrame refinado (camada prata)\n",
    "file_path_silver = \"/mnt/dados/camada_prata_terremotos\"\n",
    "\n",
    "# Removendo o diretório existente\n",
    "dbutils.fs.rm(file_path_silver, recurse=True)\n",
    "\n",
    "# Salvando o DataFrame refinado no formato Delta Lake (camada prata)\n",
    "df.write.format(\"delta\").mode(\"overwrite\").save(file_path_silver)\n"
   ]
  }
 ],
 "metadata": {
  "application/vnd.databricks.v1+notebook": {
   "computePreferences": null,
   "dashboards": [],
   "environmentMetadata": {
    "base_environment": "",
    "environment_version": "1"
   },
   "inputWidgetPreferences": null,
   "language": "python",
   "notebookMetadata": {
    "pythonIndentUnit": 4
   },
   "notebookName": "Camada Prata - Notebook 2 - Transformação dos dados dos terremotos",
   "widgets": {}
  }
 },
 "nbformat": 4,
 "nbformat_minor": 0
}