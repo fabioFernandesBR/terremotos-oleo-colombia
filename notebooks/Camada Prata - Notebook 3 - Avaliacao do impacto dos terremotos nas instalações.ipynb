{
 "cells": [
  {
   "cell_type": "markdown",
   "metadata": {
    "application/vnd.databricks.v1+cell": {
     "cellMetadata": {
      "byteLimit": 2048000,
      "rowLimit": 10000
     },
     "inputWidgets": {},
     "nuid": "7b736b1d-5784-462f-b2ce-810381f7c390",
     "showTitle": false,
     "tableResultSettingsMap": {},
     "title": ""
    }
   },
   "source": [
    "# Camada Prata - Transformação - Combinação de dados de terremotos e instalações"
   ]
  },
  {
   "cell_type": "code",
   "execution_count": 0,
   "metadata": {
    "application/vnd.databricks.v1+cell": {
     "cellMetadata": {
      "byteLimit": 2048000,
      "rowLimit": 10000
     },
     "inputWidgets": {},
     "nuid": "87d09e4e-068b-4482-9ecc-059b15a89b3a",
     "showTitle": false,
     "tableResultSettingsMap": {},
     "title": ""
    }
   },
   "outputs": [],
   "source": [
    "### importes necessarios\n",
    "\n",
    "\n",
    "from geopy.distance import geodesic\n",
    "\n",
    "from pyspark.sql.functions import udf\n",
    "from pyspark.sql.types import DoubleType, IntegerType\n",
    "\n"
   ]
  },
  {
   "cell_type": "code",
   "execution_count": 0,
   "metadata": {
    "application/vnd.databricks.v1+cell": {
     "cellMetadata": {
      "byteLimit": 2048000,
      "rowLimit": 10000
     },
     "inputWidgets": {},
     "nuid": "814b8fca-c297-4490-9bcb-f62444a69d23",
     "showTitle": false,
     "tableResultSettingsMap": {},
     "title": ""
    }
   },
   "outputs": [
    {
     "output_type": "stream",
     "name": "stdout",
     "output_type": "stream",
     "text": [
      "root\n |-- id: string (nullable = true)\n |-- prop_mag: double (nullable = true)\n |-- prop_url: string (nullable = true)\n |-- data: date (nullable = true)\n |-- latitude: double (nullable = true)\n |-- longitude: double (nullable = true)\n |-- pais: string (nullable = true)\n\n+----------+--------+--------------------+----------+--------+---------+------------+\n|        id|prop_mag|            prop_url|      data|latitude|longitude|        pais|\n+----------+--------+--------------------+----------+--------+---------+------------+\n|at00sthakw|     6.5|https://earthquak...|2025-03-21|     7.2|    -82.3|Desconhecido|\n|us10001ldx|     6.2|https://earthquak...|2015-03-10|  6.7757| -72.9875|    Colombia|\n|us10001pn4|     5.1|https://earthquak...|2015-03-22|   6.804|  -73.147|    Colombia|\n|us10001rcr|     5.5|https://earthquak...|2015-03-27| -1.2012| -77.5836|     Ecuador|\n|us10002azw|     5.1|https://earthquak...|2015-05-20| -3.0826| -77.5501|        Perú|\n+----------+--------+--------------------+----------+--------+---------+------------+\nonly showing top 5 rows\n\n"
     ]
    }
   ],
   "source": [
    "### Recuperando dados dos terremotos da camada prata\n",
    "# Caminho do arquivo Delta Lake\n",
    "file_path = \"/mnt/dados/camada_prata_terremotos\"\n",
    "\n",
    "# Ler o arquivo Delta Lake\n",
    "df_terremotos = spark.read.format(\"delta\").load(file_path)\n",
    "\n",
    "# Visualizar as primeiras 5 linhas do DataFrame\n",
    "df_terremotos.printSchema()\n",
    "df_terremotos.show(5)"
   ]
  },
  {
   "cell_type": "code",
   "execution_count": 0,
   "metadata": {
    "application/vnd.databricks.v1+cell": {
     "cellMetadata": {
      "byteLimit": 2048000,
      "rowLimit": 10000
     },
     "inputWidgets": {},
     "nuid": "661c6c76-7aed-4c7c-84e2-e6a076736fce",
     "showTitle": false,
     "tableResultSettingsMap": {},
     "title": ""
    }
   },
   "outputs": [
    {
     "output_type": "stream",
     "name": "stdout",
     "output_type": "stream",
     "text": [
      "root\n |-- codigo: string (nullable = true)\n |-- instalacao: string (nullable = true)\n |-- operador: string (nullable = true)\n |-- latitude_instalacao: double (nullable = true)\n |-- longitude_instalacao: double (nullable = true)\n\n+------+--------------------+--------+-------------------+--------------------+\n|codigo|          instalacao|operador|latitude_instalacao|longitude_instalacao|\n+------+--------------------+--------+-------------------+--------------------+\n|   COV|    Terminal Coveñas|  Ocensa|  9.409136280745889|  -75.70015297027714|\n|   LAG|Estacion La Granjita|  Ocensa|  8.449501151686118|  -75.50994443266501|\n+------+--------------------+--------+-------------------+--------------------+\nonly showing top 2 rows\n\n"
     ]
    }
   ],
   "source": [
    "### Recuperando dados das instalações da camada prata\n",
    "# Caminho do arquivo Delta Lake\n",
    "file_path = \"/mnt/dados/camada_prata_instalacoes\"\n",
    "\n",
    "# Ler o arquivo Delta Lake\n",
    "df_instalacoes = spark.read.format(\"delta\").load(file_path)\n",
    "\n",
    "# Visualizar as primeiras 5 linhas do DataFrame\n",
    "df_instalacoes.printSchema()\n",
    "df_instalacoes.show(2)"
   ]
  },
  {
   "cell_type": "markdown",
   "metadata": {
    "application/vnd.databricks.v1+cell": {
     "cellMetadata": {
      "byteLimit": 2048000,
      "rowLimit": 10000
     },
     "inputWidgets": {},
     "nuid": "67eaaa44-b6d9-4d47-8271-ae0a7637219d",
     "showTitle": false,
     "tableResultSettingsMap": {},
     "title": ""
    }
   },
   "source": [
    "Criando funções para medir distância e impacto dos terremotos nas instalações"
   ]
  },
  {
   "cell_type": "code",
   "execution_count": 0,
   "metadata": {
    "application/vnd.databricks.v1+cell": {
     "cellMetadata": {
      "byteLimit": 2048000,
      "rowLimit": 10000
     },
     "inputWidgets": {},
     "nuid": "2157dcee-371c-4b66-adf0-5e7066c110b8",
     "showTitle": false,
     "tableResultSettingsMap": {},
     "title": ""
    }
   },
   "outputs": [],
   "source": [
    "### Função para medir a distância\n",
    "def calcular_distância(latitude_ponto_1, longitude_ponto_1, latitude_ponto_2, longitude_ponto_2):\n",
    "    return geodesic((latitude_ponto_1, longitude_ponto_1), (latitude_ponto_2, longitude_ponto_2)).kilometers\n",
    "\n",
    "    return distância"
   ]
  },
  {
   "cell_type": "code",
   "execution_count": 0,
   "metadata": {
    "application/vnd.databricks.v1+cell": {
     "cellMetadata": {
      "byteLimit": 2048000,
      "rowLimit": 10000
     },
     "inputWidgets": {},
     "nuid": "7e805ba7-030d-4868-857d-35859bea0c0d",
     "showTitle": false,
     "tableResultSettingsMap": {},
     "title": ""
    }
   },
   "outputs": [],
   "source": [
    "### Função para medir o impacto\n",
    "def calcular_impacto(distancia, magnitude):\n",
    "    impacto = 0\n",
    "    if distancia <= 100 and magnitude >= 5:\n",
    "        impacto = 1\n",
    "    if distancia <= 200 and magnitude >= 6:\n",
    "        impacto = 1\n",
    "    if distancia <= 300 and magnitude >= 6.5:\n",
    "        impacto = 1\n",
    "    if distancia <= 400 and magnitude >= 7:\n",
    "        impacto = 1\n",
    "    if distancia <= 600 and magnitude >= 7.5:\n",
    "        impacto = 1\n",
    "    if distancia >= 600 and magnitude >= 8:\n",
    "        impacto = 1\n",
    "\n",
    "    return impacto\n",
    "\n",
    "\n",
    "    "
   ]
  },
  {
   "cell_type": "code",
   "execution_count": 0,
   "metadata": {
    "application/vnd.databricks.v1+cell": {
     "cellMetadata": {
      "byteLimit": 2048000,
      "rowLimit": 10000
     },
     "inputWidgets": {},
     "nuid": "ca7979dc-a30b-4efd-8d38-7aa108206595",
     "showTitle": false,
     "tableResultSettingsMap": {},
     "title": ""
    }
   },
   "outputs": [],
   "source": [
    "### Transformar estas funções em UDF (User Defined Functions):\n",
    "\n",
    "calcular_distância_udf = udf(calcular_distância, DoubleType())\n",
    "calcular_impacto_udf = udf(calcular_impacto, IntegerType())\n"
   ]
  },
  {
   "cell_type": "markdown",
   "metadata": {
    "application/vnd.databricks.v1+cell": {
     "cellMetadata": {
      "byteLimit": 2048000,
      "rowLimit": 10000
     },
     "inputWidgets": {},
     "nuid": "74a5199f-f964-44f8-b18b-1613fbffc1c7",
     "showTitle": false,
     "tableResultSettingsMap": {},
     "title": ""
    }
   },
   "source": [
    "Mesclando os dataframes"
   ]
  },
  {
   "cell_type": "code",
   "execution_count": 0,
   "metadata": {
    "application/vnd.databricks.v1+cell": {
     "cellMetadata": {
      "byteLimit": 2048000,
      "rowLimit": 10000
     },
     "inputWidgets": {},
     "nuid": "9b7b82bb-ed72-4eb7-b0be-eebad2c82559",
     "showTitle": false,
     "tableResultSettingsMap": {},
     "title": ""
    }
   },
   "outputs": [
    {
     "output_type": "stream",
     "name": "stdout",
     "output_type": "stream",
     "text": [
      "root\n |-- codigo: string (nullable = true)\n |-- instalacao: string (nullable = true)\n |-- operador: string (nullable = true)\n |-- latitude_instalacao: double (nullable = true)\n |-- longitude_instalacao: double (nullable = true)\n |-- id: string (nullable = true)\n |-- prop_mag: double (nullable = true)\n |-- prop_url: string (nullable = true)\n |-- data: date (nullable = true)\n |-- latitude: double (nullable = true)\n |-- longitude: double (nullable = true)\n |-- pais: string (nullable = true)\n\n"
     ]
    }
   ],
   "source": [
    "df_cross = df_instalacoes.crossJoin(df_terremotos)\n",
    "df_cross.printSchema()"
   ]
  },
  {
   "cell_type": "code",
   "execution_count": 0,
   "metadata": {
    "application/vnd.databricks.v1+cell": {
     "cellMetadata": {
      "byteLimit": 2048000,
      "rowLimit": 10000
     },
     "inputWidgets": {},
     "nuid": "9780a2dd-99c7-416d-8091-204c0944c161",
     "showTitle": false,
     "tableResultSettingsMap": {},
     "title": ""
    }
   },
   "outputs": [
    {
     "output_type": "stream",
     "name": "stdout",
     "output_type": "stream",
     "text": [
      "root\n |-- codigo: string (nullable = true)\n |-- instalacao: string (nullable = true)\n |-- operador: string (nullable = true)\n |-- latitude_instalacao: double (nullable = true)\n |-- longitude_instalacao: double (nullable = true)\n |-- id: string (nullable = true)\n |-- prop_mag: double (nullable = true)\n |-- prop_url: string (nullable = true)\n |-- data: date (nullable = true)\n |-- latitude: double (nullable = true)\n |-- longitude: double (nullable = true)\n |-- pais: string (nullable = true)\n |-- distancia: double (nullable = true)\n\nOut[8]: [Row(codigo='COV', instalacao='Terminal Coveñas', operador='Ocensa', latitude_instalacao=9.409136280745889, longitude_instalacao=-75.70015297027714, id='at00sthakw', prop_mag=6.5, prop_url='https://earthquake.usgs.gov/earthquakes/eventpage/at00sthakw', data=datetime.date(2025, 3, 21), latitude=7.2, longitude=-82.3, pais='Desconhecido', distancia=766.9409381249803),\n Row(codigo='LAG', instalacao='Estacion La Granjita', operador='Ocensa', latitude_instalacao=8.449501151686118, longitude_instalacao=-75.50994443266501, id='at00sthakw', prop_mag=6.5, prop_url='https://earthquake.usgs.gov/earthquakes/eventpage/at00sthakw', data=datetime.date(2025, 3, 21), latitude=7.2, longitude=-82.3, pais='Desconhecido', distancia=761.493997445417),\n Row(codigo='CAU', instalacao='Planta Caucasia', operador='ODC', latitude_instalacao=7.976933967792115, longitude_instalacao=-75.22089861123531, id='at00sthakw', prop_mag=6.5, prop_url='https://earthquake.usgs.gov/earthquakes/eventpage/at00sthakw', data=datetime.date(2025, 3, 21), latitude=7.2, longitude=-82.3, pais='Desconhecido', distancia=785.8824006373464)]"
     ]
    }
   ],
   "source": [
    "### Calculando as ditâncias entre epicentro e instalação, para cada par terremoto x instalação\n",
    "df_cross = df_cross.withColumn(\"distancia\", calcular_distância_udf(df_cross[\"latitude\"], df_cross[\"longitude\"], df_cross[\"latitude_instalacao\"], df_cross[\"longitude_instalacao\"]))\n",
    "df_cross.printSchema()\n",
    "df_cross.head(3)"
   ]
  },
  {
   "cell_type": "code",
   "execution_count": 0,
   "metadata": {
    "application/vnd.databricks.v1+cell": {
     "cellMetadata": {
      "byteLimit": 2048000,
      "rowLimit": 10000
     },
     "inputWidgets": {},
     "nuid": "d04795a1-06fd-485e-bccc-fe34960c968e",
     "showTitle": false,
     "tableResultSettingsMap": {},
     "title": ""
    }
   },
   "outputs": [
    {
     "output_type": "stream",
     "name": "stdout",
     "output_type": "stream",
     "text": [
      "root\n |-- codigo: string (nullable = true)\n |-- instalacao: string (nullable = true)\n |-- operador: string (nullable = true)\n |-- latitude_instalacao: double (nullable = true)\n |-- longitude_instalacao: double (nullable = true)\n |-- id: string (nullable = true)\n |-- prop_mag: double (nullable = true)\n |-- prop_url: string (nullable = true)\n |-- data: date (nullable = true)\n |-- latitude: double (nullable = true)\n |-- longitude: double (nullable = true)\n |-- pais: string (nullable = true)\n |-- distancia: double (nullable = true)\n |-- impacto: integer (nullable = true)\n\nOut[9]: [Row(codigo='CHI', instalacao='Estacion Chiquillo', operador='Ocensa', latitude_instalacao=6.849724465710438, longitude_instalacao=-74.48568700509468, id='us10001ldx', prop_mag=6.2, prop_url='https://earthquake.usgs.gov/earthquakes/eventpage/us10001ldx', data=datetime.date(2015, 3, 10), latitude=6.7757, longitude=-72.9875, pais='Colombia', distancia=165.8097685759375, impacto=1),\n Row(codigo='VAS', instalacao='Estación Vasconia', operador='CENIT', latitude_instalacao=6.066431800297201, longitude_instalacao=-74.55827667262115, id='us10001ldx', prop_mag=6.2, prop_url='https://earthquake.usgs.gov/earthquakes/eventpage/us10001ldx', data=datetime.date(2015, 3, 10), latitude=6.7757, longitude=-72.9875, pais='Colombia', distancia=190.64982815656515, impacto=1),\n Row(codigo='LAB', instalacao='ESTACIÓN LA BELLEZA', operador='Ocensa', latitude_instalacao=5.840039734738277, longitude_instalacao=-73.9661266490697, id='us10001ldx', prop_mag=6.2, prop_url='https://earthquake.usgs.gov/earthquakes/eventpage/us10001ldx', data=datetime.date(2015, 3, 10), latitude=6.7757, longitude=-72.9875, pais='Colombia', distancia=149.7729764777793, impacto=1)]"
     ]
    }
   ],
   "source": [
    "### Estimando se houve ou não impacto do terremoto na instação, considerando a distância e a magnitude, para cada par terremoto x instalação\n",
    "df_cross = df_cross.withColumn(\"impacto\", calcular_impacto_udf(df_cross[\"distancia\"], df_cross[\"prop_mag\"]))\n",
    "df_impacto = df_cross.filter(df_cross[\"impacto\"] == 1) ### Eliminando as linhas sem impacto.\n",
    "df_impacto.printSchema()\n",
    "df_impacto.head(3)"
   ]
  },
  {
   "cell_type": "code",
   "execution_count": 0,
   "metadata": {
    "application/vnd.databricks.v1+cell": {
     "cellMetadata": {
      "byteLimit": 2048000,
      "rowLimit": 10000
     },
     "inputWidgets": {},
     "nuid": "4d9e4944-0bcd-4f64-8d32-c956bdb9daa4",
     "showTitle": false,
     "tableResultSettingsMap": {},
     "title": ""
    }
   },
   "outputs": [
    {
     "output_type": "stream",
     "name": "stdout",
     "output_type": "stream",
     "text": [
      "+-------+---------------+-------------+------------------+\n|summary|instalacoes_cod|terremotos_id|         distancia|\n+-------+---------------+-------------+------------------+\n|  count|             37|           37|                37|\n|   mean|           null|         null|116.74146564663337|\n| stddev|           null|         null|57.846364904525714|\n|    min|            CAU|   us10001ldx|16.639204068357735|\n|    max|            VAS|   usp000hf0b|230.89478697278986|\n+-------+---------------+-------------+------------------+\n\n"
     ]
    }
   ],
   "source": [
    "df_eventos_impacto = df_impacto.select(\n",
    "    \"codigo\",\n",
    "    \"id\",\n",
    "    \"distancia\"\n",
    ")\n",
    "df_eventos_impacto = df_eventos_impacto.withColumnRenamed(\"codigo\", \"instalacoes_cod\").withColumnRenamed(\"id\", \"terremotos_id\") \n",
    "\n",
    "\n",
    "df_eventos_impacto.describe().show()"
   ]
  },
  {
   "cell_type": "markdown",
   "metadata": {
    "application/vnd.databricks.v1+cell": {
     "cellMetadata": {
      "byteLimit": 2048000,
      "rowLimit": 10000
     },
     "inputWidgets": {},
     "nuid": "b933bf29-a7e4-4861-b733-a37ab5a50b73",
     "showTitle": false,
     "tableResultSettingsMap": {},
     "title": ""
    }
   },
   "source": [
    "Agora vamos persistir nossos dados finais."
   ]
  },
  {
   "cell_type": "code",
   "execution_count": 0,
   "metadata": {
    "application/vnd.databricks.v1+cell": {
     "cellMetadata": {
      "byteLimit": 2048000,
      "rowLimit": 10000
     },
     "inputWidgets": {},
     "nuid": "91653b3a-9182-4bc4-b996-396196a04d72",
     "showTitle": false,
     "tableResultSettingsMap": {},
     "title": ""
    }
   },
   "outputs": [],
   "source": [
    "# Caminho para salvar o DataFrame refinado (camada prata)\n",
    "file_path_silver = \"/mnt/dados/camada_prata_impacto\"\n",
    "\n",
    "# Removendo o diretório existente\n",
    "dbutils.fs.rm(file_path_silver, recurse=True)\n",
    "\n",
    "# Salvando o DataFrame refinado no formato Delta Lake (camada prata)\n",
    "df_eventos_impacto.write.format(\"delta\").mode(\"overwrite\").save(file_path_silver)"
   ]
  }
 ],
 "metadata": {
  "application/vnd.databricks.v1+notebook": {
   "computePreferences": null,
   "dashboards": [],
   "environmentMetadata": {
    "base_environment": "",
    "environment_version": "1"
   },
   "inputWidgetPreferences": null,
   "language": "python",
   "notebookMetadata": {
    "pythonIndentUnit": 4
   },
   "notebookName": "Camada Prata - Notebook 3 - Avaliacao do impacto dos terremotos nas instalações",
   "widgets": {}
  }
 },
 "nbformat": 4,
 "nbformat_minor": 0
}