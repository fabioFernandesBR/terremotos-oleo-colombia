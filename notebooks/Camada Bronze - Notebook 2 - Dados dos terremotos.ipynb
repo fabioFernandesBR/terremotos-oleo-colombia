{
 "cells": [
  {
   "cell_type": "markdown",
   "metadata": {
    "application/vnd.databricks.v1+cell": {
     "cellMetadata": {
      "byteLimit": 2048000,
      "rowLimit": 10000
     },
     "inputWidgets": {},
     "nuid": "8f78141a-3d06-46fd-a5ff-b3415d0a87b4",
     "showTitle": true,
     "tableResultSettingsMap": {},
     "title": ""
    }
   },
   "source": [
    "# Camada Bronze - Notebook 2\n",
    "\n",
    "\n",
    "\n"
   ]
  },
  {
   "cell_type": "code",
   "execution_count": 0,
   "metadata": {
    "application/vnd.databricks.v1+cell": {
     "cellMetadata": {
      "byteLimit": 2048000,
      "rowLimit": 10000
     },
     "inputWidgets": {},
     "nuid": "18097c36-f868-4cce-9b33-d8769c40cc08",
     "showTitle": false,
     "tableResultSettingsMap": {},
     "title": ""
    }
   },
   "outputs": [],
   "source": [
    "import requests\n",
    "import pandas as pd\n",
    "from datetime import datetime\n",
    "\n",
    "# URL da API do USGS\n",
    "url = \"https://earthquake.usgs.gov/fdsnws/event/1/query\"\n",
    "\n",
    "# Coordenadas centrais da Colômbia\n",
    "latitude_central = 4.570868\n",
    "longitude_central = -74.297333\n",
    "\n",
    "# Parâmetros da API\n",
    "params = {\n",
    "    \"format\": \"geojson\",\n",
    "    \"starttime\": \"2005-01-01\",\n",
    "    \"endtime\": datetime.now().strftime(\"%Y-%m-%d\"),\n",
    "    \"minmagnitude\": 5,\n",
    "    \"latitude\": latitude_central,\n",
    "    \"longitude\": longitude_central,\n",
    "    \"maxradiuskm\": 1000\n",
    "}\n",
    "\n",
    "# Requisição à API\n",
    "response = requests.get(url, params=params)\n",
    "data = response.json()\n",
    "\n",
    "# Processamento dos dados\n",
    "df = pd.json_normalize(data['features'])\n",
    "\n",
    "# Converta o DataFrame do pandas para um DataFrame do Spark\n",
    "spark_df = spark.createDataFrame(df)\n",
    "\n",
    "# Salve os dados em formato Delta Lake\n",
    "spark_df.write.format(\"delta\").mode(\"overwrite\").save(\"/mnt/dados/camada_bronze_terremotos\")\n",
    "\n"
   ]
  },
  {
   "cell_type": "code",
   "execution_count": 0,
   "metadata": {
    "application/vnd.databricks.v1+cell": {
     "cellMetadata": {
      "byteLimit": 2048000,
      "rowLimit": 10000
     },
     "inputWidgets": {},
     "nuid": "5422d52f-5d11-4933-82cd-a12951e934c6",
     "showTitle": false,
     "tableResultSettingsMap": {},
     "title": ""
    }
   },
   "outputs": [
    {
     "output_type": "stream",
     "name": "stdout",
     "output_type": "stream",
     "text": [
      "+-------+----------+--------------+--------------------+---------------+------------------+-------------+--------------------+--------------------+---------------+--------------+--------------+----------------+-----------------+------------------+--------------+--------------+---------------+--------------------+------------------+--------------------+--------------+---------------+--------------+-----------------+------------------+---------------+--------------------+-------------+--------------------+\n|   type|        id|properties.mag|    properties.place|properties.time|properties.updated|properties.tz|      properties.url|   properties.detail|properties.felt|properties.cdi|properties.mmi|properties.alert|properties.status|properties.tsunami|properties.sig|properties.net|properties.code|      properties.ids|properties.sources|    properties.types|properties.nst|properties.dmin|properties.rms|   properties.gap|properties.magType|properties.type|    properties.title|geometry.type|geometry.coordinates|\n+-------+----------+--------------+--------------------+---------------+------------------+-------------+--------------------+--------------------+---------------+--------------+--------------+----------------+-----------------+------------------+--------------+--------------+---------------+--------------------+------------------+--------------------+--------------+---------------+--------------+-----------------+------------------+---------------+--------------------+-------------+--------------------+\n|Feature|at00sthakw|           6.5|111 km SE of Buri...|  1742568656000|     1742577414640|         null|https://earthquak...|https://earthquak...|           null|          null|          null|            null|         REVIEWED|                 1|           650|            at|       00sthakw|        ,at00sthakw,|              ,at,|,impact-link,origin,|         154.0|            0.0|          2.52|71.99999424000046|                Mi|     earthquake|M 6.5 - 111 km SE...|        Point|  [-82.3, 7.2, 10.0]|\n|Feature|us7000pllt|           6.2|120 km SSE of Bur...|  1742568651098|     1742879645991|         null|https://earthquak...|https://earthquak...|           82.0|           6.1|         4.942|           green|         reviewed|                 1|           641|            us|       7000pllt|,pt25080000,us700...| ,pt,us,usauto,at,|,dyfi,ground-fail...|          74.0|          2.354|          1.05|            143.0|               mww|     earthquake|M 6.2 - 120 km SS...|        Point|[-82.3966, 7.0486...|\n|Feature|us6000pxlb|           5.3|48 km SE of Tena,...|  1741412261913|     1742623760366|         null|https://earthquak...|https://earthquak...|            3.0|           3.3|          null|            null|         reviewed|                 0|           433|            us|       6000pxlb|,us6000pxlb,usaut...|       ,us,usauto,|,dyfi,internal-mo...|         176.0|          0.501|          0.77|             72.0|               mww|     earthquake|M 5.3 - 48 km SE ...|        Point|[-77.5464, -1.344...|\n|Feature|us6000pw9c|           5.0|121 km WNW of Mos...|  1740821929850|     1741771711040|         null|https://earthquak...|https://earthquak...|           null|          null|          null|            null|         reviewed|                 0|           385|            us|       6000pw9c|,usauto6000pw9c,u...|       ,usauto,us,|,internal-moment-...|          71.0|          2.729|          0.91|            138.0|               mww|     earthquake|M 5.0 - 121 km WN...|        Point|[-79.4812, 2.871,...|\n|Feature|us7000pahy|           5.5|32 km W of Archid...|  1738364548845|     1744129235492|         null|https://earthquak...|https://earthquak...|           26.0|           7.2|         6.132|           green|         reviewed|                 0|           484|            us|       7000pahy|,us7000pahy,usaut...|    ,us,usauto,pt,|,dyfi,ground-fail...|          96.0|            0.3|          0.68|             64.0|               mww|     earthquake|M 5.5 - 32 km W o...|        Point|[-78.0956, -0.860...|\n|Feature|us6000pjm2|           5.0|16 km SE of Eloy ...|  1736734854549|     1743032459543|         null|https://earthquak...|https://earthquak...|           58.0|           4.6|          null|            null|         reviewed|                 0|           411|            us|       6000pjm2|        ,us6000pjm2,|              ,us,|,dyfi,impact-text...|         177.0|          0.528|          0.61|             54.0|               mww|     earthquake|M 5.0 - 16 km SE ...|        Point|[-79.7517, -2.278...|\n|Feature|us6000pj4s|           5.6|31 km SSW of Bahí...|  1736496872949|     1742504099040|         null|https://earthquak...|https://earthquak...|            1.0|           1.0|         4.551|           green|         reviewed|                 0|           483|            us|       6000pj4s|,us6000pj4s,usaut...|    ,us,usauto,pt,|,dyfi,ground-fail...|          81.0|          1.944|          0.65|             91.0|               mww|     earthquake|M 5.6 - 31 km SSW...|        Point|[-77.4683, 5.9461...|\n|Feature|us6000pfmi|           5.0|10 km ENE of Vald...|  1735174359508|     1741473550040|         null|https://earthquak...|https://earthquak...|           47.0|           4.8|          null|            null|         reviewed|                 0|           407|            us|       6000pfmi|,us6000pfmi,usaut...|       ,us,usauto,|,dyfi,internal-mo...|         190.0|          1.148|          0.82|             32.0|               mww|     earthquake|M 5.0 - 10 km ENE...|        Point|[-75.298, 7.3229,...|\n|Feature|us7000nqwx|           5.8|77 km SE of Buric...|  1731180618781|     1737748288040|         null|https://earthquak...|https://earthquak...|            0.0|           1.0|         4.381|           green|         reviewed|                 0|           518|            us|       7000nqwx|,us7000nqwx,usaut...| ,us,usauto,pt,at,|,dyfi,internal-mo...|          91.0|          1.926|          0.74|             59.0|               mww|     earthquake|M 5.8 - 77 km SE ...|        Point|[-82.3895, 7.5218...|\n|Feature|us7000nqv1|           5.6|79 km SE of Buric...|  1731146620690|     1737748287040|         null|https://earthquak...|https://earthquak...|            1.0|           2.5|         4.273|           green|         reviewed|                 0|           483|            us|       7000nqv1|,us7000nqv1,usaut...|    ,us,usauto,pt,|,dyfi,internal-mo...|          78.0|           1.95|          0.82|             92.0|               mww|     earthquake|M 5.6 - 79 km SE ...|        Point|[-82.3993, 7.4901...|\n|Feature|us7000nqkx|           5.1|58 km E of Puyo, ...|  1731062262623|     1737748283040|         null|https://earthquak...|https://earthquak...|            2.0|           2.2|          null|            null|         reviewed|                 0|           401|            us|       7000nqkx|,us7000nqkx,usaut...|       ,us,usauto,|,dyfi,internal-mo...|         244.0|          0.553|           0.6|             76.0|               mww|     earthquake|M 5.1 - 58 km E o...|        Point|[-77.4738, -1.449...|\n|Feature|us7000npzi|           5.0|41 km NNW of Piza...|  1730776446554|     1737748274040|         null|https://earthquak...|https://earthquak...|            1.0|           0.0|          null|            null|         reviewed|                 0|           385|            us|       7000npzi|,us7000npzi,usaut...|       ,us,usauto,|,dyfi,internal-mo...|          60.0|          2.109|          0.67|             61.0|               mww|     earthquake|M 5.0 - 41 km NNW...|        Point|[-77.462, 5.3197,...|\n|Feature|us6000nsuw|           5.0|     south of Panama|  1726645948320|     1732404351040|         null|https://earthquak...|https://earthquak...|           null|          null|          null|            null|         reviewed|                 0|           385|            us|       6000nsuw|,usauto6000nsuw,u...|       ,usauto,us,|,internal-moment-...|          83.0|          4.105|          0.91|             73.0|               mww|     earthquake|M 5.0 - south of ...|        Point|[-82.659, 5.1719,...|\n|Feature|us6000nnrw|           5.1|288 km SW of Aren...|  1725053134385|     1731187130040|         null|https://earthquak...|https://earthquak...|            1.0|           1.0|          null|            null|         reviewed|                 0|           400|            us|       6000nnrw|,us6000nnrw,usaut...|       ,us,usauto,|,dyfi,internal-mo...|          85.0|          3.102|          0.76|             73.0|               mww|     earthquake|M 5.1 - 288 km SW...|        Point|[-82.5537, 5.3837...|\n|Feature|us7000n9fn|           5.8|83 km S of Boca C...|  1724648924183|     1731187153040|         null|https://earthquak...|https://earthquak...|           13.0|           8.2|         4.803|           green|         reviewed|                 0|           528|            us|       7000n9fn|,us7000n9fn,usaut...| ,us,usauto,at,pt,|,dyfi,internal-mo...|         262.0|          1.402|          0.73|            123.0|               mww|     earthquake|M 5.8 - 83 km S o...|        Point|[-82.2687, 7.4653...|\n|Feature|us6000nh8m|           5.0|     south of Panama|  1722470963851|     1728675547040|         null|https://earthquak...|https://earthquak...|           null|          null|          null|            null|         reviewed|                 0|           385|            us|       6000nh8m|,usauto6000nh8m,u...|       ,usauto,us,|,internal-moment-...|         192.0|          3.473|          0.71|             65.0|               mww|     earthquake|M 5.0 - south of ...|        Point|[-82.6236, 4.9846...|\n|Feature|us7000mt41|           5.5|53 km SSW of Alia...|  1718677330098|     1725041829040|         null|https://earthquak...|https://earthquak...|            9.0|           3.8|         4.082|           green|         reviewed|                 0|           469|            us|       7000mt41|,us7000mt41,usaut...|       ,us,usauto,|,dyfi,internal-mo...|         154.0|          2.741|          0.54|             33.0|               mww|     earthquake|M 5.5 - 53 km SSW...|        Point|[-76.671, -3.8928...|\n|Feature|us6000n0mu|           5.1|199 km SSE of Bur...|  1716527629751|     1722910213040|         null|https://earthquak...|https://earthquak...|            1.0|           2.2|          null|            null|         reviewed|                 0|           400|            us|       6000n0mu|,us6000n0mu,usaut...|       ,us,usauto,|,dyfi,impact-text...|          81.0|          2.276|          1.17|            126.0|               mww|     earthquake|M 5.1 - 199 km SS...|        Point|[-82.5111, 6.2666...|\n|Feature|us6000n077|           5.0|63 km W of Mosque...|  1716356059975|     1722910210040|         null|https://earthquak...|https://earthquak...|           null|          null|          null|            null|         reviewed|                 0|           385|            us|       6000n077|,usauto6000n077,u...|       ,usauto,us,|,internal-moment-...|         107.0|          1.223|          0.98|             73.0|               mww|     earthquake|M 5.0 - 63 km W o...|        Point|[-79.0178, 2.5123...|\n|Feature|us6000mtc6|           5.4|77 km SSW of Boca...|  1713921642573|     1720441234228|         null|https://earthquak...|https://earthquak...|            4.0|           3.8|          4.09|           green|         reviewed|                 0|           450|            us|       6000mtc6|,us6000mtc6,usaut...|       ,us,usauto,|,dyfi,internal-mo...|         119.0|           1.28|          0.52|             67.0|               mww|     earthquake|M 5.4 - 77 km SSW...|        Point|[-82.372, 7.5347,...|\n+-------+----------+--------------+--------------------+---------------+------------------+-------------+--------------------+--------------------+---------------+--------------+--------------+----------------+-----------------+------------------+--------------+--------------+---------------+--------------------+------------------+--------------------+--------------+---------------+--------------+-----------------+------------------+---------------+--------------------+-------------+--------------------+\nonly showing top 20 rows\n\n"
     ]
    }
   ],
   "source": [
    "spark_df.show()"
   ]
  },
  {
   "cell_type": "code",
   "execution_count": 0,
   "metadata": {
    "application/vnd.databricks.v1+cell": {
     "cellMetadata": {
      "byteLimit": 2048000,
      "rowLimit": 10000
     },
     "inputWidgets": {},
     "nuid": "a25bdf3c-ef94-4003-a23d-4d640ee28df3",
     "showTitle": false,
     "tableResultSettingsMap": {},
     "title": ""
    }
   },
   "outputs": [],
   "source": []
  }
 ],
 "metadata": {
  "application/vnd.databricks.v1+notebook": {
   "computePreferences": null,
   "dashboards": [],
   "environmentMetadata": {
    "base_environment": "",
    "environment_version": "1"
   },
   "inputWidgetPreferences": null,
   "language": "python",
   "notebookMetadata": {
    "pythonIndentUnit": 4
   },
   "notebookName": "Camada Bronze - Notebook 2 - Dados dos terremotos",
   "widgets": {}
  }
 },
 "nbformat": 4,
 "nbformat_minor": 0
}