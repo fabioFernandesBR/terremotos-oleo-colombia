{
 "cells": [
  {
   "cell_type": "markdown",
   "metadata": {
    "application/vnd.databricks.v1+cell": {
     "cellMetadata": {
      "byteLimit": 2048000,
      "rowLimit": 10000
     },
     "inputWidgets": {},
     "nuid": "ae50b20e-f3f7-4498-95a0-f49b83804b3c",
     "showTitle": false,
     "tableResultSettingsMap": {},
     "title": ""
    }
   },
   "source": [
    "# Transformação dos dados das instalações"
   ]
  },
  {
   "cell_type": "code",
   "execution_count": 0,
   "metadata": {
    "application/vnd.databricks.v1+cell": {
     "cellMetadata": {
      "byteLimit": 2048000,
      "rowLimit": 10000
     },
     "inputWidgets": {},
     "nuid": "e2209c55-485f-4f19-89a6-5e1160527850",
     "showTitle": false,
     "tableResultSettingsMap": {},
     "title": ""
    }
   },
   "outputs": [],
   "source": [
    "### Importes necessários\n",
    "\n",
    "from pyspark.sql.functions import split, col\n"
   ]
  },
  {
   "cell_type": "code",
   "execution_count": 0,
   "metadata": {
    "application/vnd.databricks.v1+cell": {
     "cellMetadata": {
      "byteLimit": 2048000,
      "rowLimit": 10000
     },
     "inputWidgets": {},
     "nuid": "5dff7c00-e6a9-426d-a85f-6cd3a6fe5a0a",
     "showTitle": false,
     "tableResultSettingsMap": {},
     "title": ""
    }
   },
   "outputs": [
    {
     "output_type": "stream",
     "name": "stdout",
     "output_type": "stream",
     "text": [
      "+------+--------------------+--------------------+---------+\n|codigo|          instalacao|         coordenadas| operador|\n+------+--------------------+--------------------+---------+\n|   COV|    Terminal Coveñas|9.409136280745889...|   Ocensa|\n|   LAG|Estacion La Granjita|8.449501151686118...|   Ocensa|\n|   CAU|     Planta Caucasia|7.976933967792115...|      ODC|\n|   CHI|  Estacion Chiquillo|6.849724465710438...|   Ocensa|\n|   VAS|   Estación Vasconia|6.066431800297201...|    CENIT|\n|   LAB| ESTACIÓN LA BELLEZA|5.840039734738277...|   Ocensa|\n|   MIR| Estación Miraflores|5.187013677738204...|   Ocensa|\n|   PAE|       Estacion Páez|5.071094644914588...|   Ocensa|\n|   ELP|Estación El Porvenir|4.921052391552144...|   Ocensa|\n|   CUS|    Estacion Cusiana|5.002134841542299...|   Ocensa|\n|   CUP|        CPF Cupiagua|5.2090068492098, ...|Ecopetrol|\n+------+--------------------+--------------------+---------+\n\nroot\n |-- codigo: string (nullable = true)\n |-- instalacao: string (nullable = true)\n |-- coordenadas: string (nullable = true)\n |-- operador: string (nullable = true)\n\n"
     ]
    }
   ],
   "source": [
    "# Caminho do arquivo Delta Lake\n",
    "file_path = \"/mnt/dados/camada_bronze_instalacoes\"\n",
    "\n",
    "# Ler o arquivo Delta Lake\n",
    "df = spark.read.format(\"delta\").load(file_path)\n",
    "\n",
    "# Visualizar as primeiras 5 linhas do DataFrame\n",
    "df.show()\n",
    "df.printSchema()"
   ]
  },
  {
   "cell_type": "markdown",
   "metadata": {
    "application/vnd.databricks.v1+cell": {
     "cellMetadata": {
      "byteLimit": 2048000,
      "rowLimit": 10000
     },
     "inputWidgets": {},
     "nuid": "0dfb2ead-9f9e-4f96-9fb6-097bf1584f59",
     "showTitle": false,
     "tableResultSettingsMap": {},
     "title": ""
    }
   },
   "source": [
    "Vemos que as coordenadas (latitude, longitude) estão em apenas 1 coluna do tipo string. Vamos separar em 2 colunas."
   ]
  },
  {
   "cell_type": "code",
   "execution_count": 0,
   "metadata": {
    "application/vnd.databricks.v1+cell": {
     "cellMetadata": {
      "byteLimit": 2048000,
      "rowLimit": 10000
     },
     "inputWidgets": {},
     "nuid": "81b8e805-4b9e-408b-880b-ef2a2ca36d04",
     "showTitle": false,
     "tableResultSettingsMap": {},
     "title": ""
    }
   },
   "outputs": [
    {
     "output_type": "stream",
     "name": "stdout",
     "output_type": "stream",
     "text": [
      "+------+--------------------+---------+-------------------+--------------------+\n|codigo|          instalacao| operador|latitude_instalacao|longitude_instalacao|\n+------+--------------------+---------+-------------------+--------------------+\n|   COV|    Terminal Coveñas|   Ocensa|  9.409136280745889|  -75.70015297027714|\n|   LAG|Estacion La Granjita|   Ocensa|  8.449501151686118|  -75.50994443266501|\n|   CAU|     Planta Caucasia|      ODC|  7.976933967792115|  -75.22089861123531|\n|   CHI|  Estacion Chiquillo|   Ocensa|  6.849724465710438|  -74.48568700509468|\n|   VAS|   Estación Vasconia|    CENIT|  6.066431800297201|  -74.55827667262115|\n|   LAB| ESTACIÓN LA BELLEZA|   Ocensa|  5.840039734738277|   -73.9661266490697|\n|   MIR| Estación Miraflores|   Ocensa| 5.1870136777382045|  -73.16287230331245|\n|   PAE|       Estacion Páez|   Ocensa|  5.071094644914588|  -73.06434451310464|\n|   ELP|Estación El Porvenir|   Ocensa|  4.921052391552144|   -72.9326776922106|\n|   CUS|    Estacion Cusiana|   Ocensa|  5.002134841542299|    -72.705173641698|\n|   CUP|        CPF Cupiagua|Ecopetrol|    5.2090068492098|  -72.60189484354159|\n+------+--------------------+---------+-------------------+--------------------+\n\nroot\n |-- codigo: string (nullable = true)\n |-- instalacao: string (nullable = true)\n |-- operador: string (nullable = true)\n |-- latitude_instalacao: double (nullable = true)\n |-- longitude_instalacao: double (nullable = true)\n\n"
     ]
    }
   ],
   "source": [
    "\n",
    "# Divide a coluna 'Coordenadas' em duas colunas separadas\n",
    "df = df.withColumn(\"latitude_instalacao\", split(col(\"coordenadas\"), \",\").getItem(0).cast(\"double\"))\n",
    "df = df.withColumn(\"longitude_instalacao\", split(col(\"coordenadas\"), \",\").getItem(1).cast(\"double\"))\n",
    "\n",
    "# Remove a coluna original 'Coordenadas'\n",
    "df = df.drop(\"Coordenadas\")\n",
    "\n",
    "# Mostra o resultado\n",
    "df.show()\n",
    "df.printSchema()"
   ]
  },
  {
   "cell_type": "markdown",
   "metadata": {
    "application/vnd.databricks.v1+cell": {
     "cellMetadata": {
      "byteLimit": 2048000,
      "rowLimit": 10000
     },
     "inputWidgets": {},
     "nuid": "f9b161ca-e03d-4f79-baf1-7f7d74842a8e",
     "showTitle": false,
     "tableResultSettingsMap": {},
     "title": ""
    }
   },
   "source": [
    "Certo. Agora podemos persistir nosso novo dataset."
   ]
  },
  {
   "cell_type": "code",
   "execution_count": 0,
   "metadata": {
    "application/vnd.databricks.v1+cell": {
     "cellMetadata": {
      "byteLimit": 2048000,
      "rowLimit": 10000
     },
     "inputWidgets": {},
     "nuid": "2d22146c-c4ec-4d74-89d9-d24b5f8753e9",
     "showTitle": false,
     "tableResultSettingsMap": {},
     "title": ""
    }
   },
   "outputs": [],
   "source": [
    "# Caminho para salvar o DataFrame refinado (camada prata)\n",
    "file_path_silver = \"/mnt/dados/camada_prata_instalacoes\"\n",
    "\n",
    "# Removendo o diretório existente\n",
    "dbutils.fs.rm(file_path_silver, recurse=True)\n",
    "\n",
    "# Salvando o DataFrame refinado no formato Delta Lake (camada prata)\n",
    "df.write.format(\"delta\").mode(\"overwrite\").save(file_path_silver)\n"
   ]
  }
 ],
 "metadata": {
  "application/vnd.databricks.v1+notebook": {
   "computePreferences": null,
   "dashboards": [],
   "environmentMetadata": {
    "base_environment": "",
    "environment_version": "1"
   },
   "inputWidgetPreferences": null,
   "language": "python",
   "notebookMetadata": {
    "pythonIndentUnit": 4
   },
   "notebookName": "Camada Prata - Notebook 1 - Transformação dos dados das instalações",
   "widgets": {}
  }
 },
 "nbformat": 4,
 "nbformat_minor": 0
}